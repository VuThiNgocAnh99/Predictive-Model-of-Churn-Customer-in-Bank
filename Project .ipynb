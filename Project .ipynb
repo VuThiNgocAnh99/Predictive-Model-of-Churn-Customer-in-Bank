{
 "cells": [
  {
   "cell_type": "markdown",
   "id": "6a652399",
   "metadata": {},
   "source": [
    "<h1> Pre-Processing Operations and EDA"
   ]
  },
  {
   "cell_type": "code",
   "execution_count": 1,
   "id": "7f9a7662",
   "metadata": {},
   "outputs": [
    {
     "name": "stdout",
     "output_type": "stream",
     "text": [
      "Setup complete.\n"
     ]
    }
   ],
   "source": [
    "import pandas as pd\n",
    "import numpy as np\n",
    "import matplotlib.pyplot as plt\n",
    "import seaborn as sns\n",
    "pd.set_option('max_rows', 10)\n",
    "%matplotlib inline\n",
    "print(\"Setup complete.\")"
   ]
  },
  {
   "cell_type": "markdown",
   "id": "ad1e2033",
   "metadata": {},
   "source": [
    "<h2> Import the dataset"
   ]
  },
  {
   "cell_type": "code",
   "execution_count": 2,
   "id": "9484722a",
   "metadata": {
    "scrolled": true
   },
   "outputs": [
    {
     "data": {
      "text/html": [
       "<div>\n",
       "<style scoped>\n",
       "    .dataframe tbody tr th:only-of-type {\n",
       "        vertical-align: middle;\n",
       "    }\n",
       "\n",
       "    .dataframe tbody tr th {\n",
       "        vertical-align: top;\n",
       "    }\n",
       "\n",
       "    .dataframe thead th {\n",
       "        text-align: right;\n",
       "    }\n",
       "</style>\n",
       "<table border=\"1\" class=\"dataframe\">\n",
       "  <thead>\n",
       "    <tr style=\"text-align: right;\">\n",
       "      <th></th>\n",
       "      <th>local_ref_1</th>\n",
       "      <th>vn_marital_status</th>\n",
       "      <th>resid_province</th>\n",
       "      <th>resid_district</th>\n",
       "      <th>resid_wards</th>\n",
       "      <th>birth_incorp_date</th>\n",
       "      <th>amount_week</th>\n",
       "      <th>max_amount_week</th>\n",
       "      <th>min_amount_week</th>\n",
       "      <th>distinct_payment_code_week</th>\n",
       "      <th>...</th>\n",
       "      <th>distinct_trans_group_3month</th>\n",
       "      <th>distinct_ref_no_3month</th>\n",
       "      <th>most_act_mar2021_count</th>\n",
       "      <th>most_act_mar2021</th>\n",
       "      <th>total_act_mar2021</th>\n",
       "      <th>total_amt_mar2021</th>\n",
       "      <th>most_act_juin2021_count</th>\n",
       "      <th>most_act_juin2021</th>\n",
       "      <th>total_act_juin2021</th>\n",
       "      <th>total_amt_juin2021</th>\n",
       "    </tr>\n",
       "  </thead>\n",
       "  <tbody>\n",
       "    <tr>\n",
       "      <th>0</th>\n",
       "      <td>MALE</td>\n",
       "      <td>Married</td>\n",
       "      <td>27.0</td>\n",
       "      <td>262.0</td>\n",
       "      <td>9436.0</td>\n",
       "      <td>1992.0</td>\n",
       "      <td>NaN</td>\n",
       "      <td>NaN</td>\n",
       "      <td>NaN</td>\n",
       "      <td>0.0</td>\n",
       "      <td>...</td>\n",
       "      <td>2</td>\n",
       "      <td>33</td>\n",
       "      <td>5.0</td>\n",
       "      <td>Giao dich chuyen khoan</td>\n",
       "      <td>5.0</td>\n",
       "      <td>0.000016</td>\n",
       "      <td>14.0</td>\n",
       "      <td>Giao dich chuyen khoan</td>\n",
       "      <td>17.0</td>\n",
       "      <td>0.006543</td>\n",
       "    </tr>\n",
       "    <tr>\n",
       "      <th>1</th>\n",
       "      <td>MALE</td>\n",
       "      <td>Single</td>\n",
       "      <td>79.0</td>\n",
       "      <td>769.0</td>\n",
       "      <td>27097.0</td>\n",
       "      <td>1986.0</td>\n",
       "      <td>NaN</td>\n",
       "      <td>NaN</td>\n",
       "      <td>NaN</td>\n",
       "      <td>NaN</td>\n",
       "      <td>...</td>\n",
       "      <td>2</td>\n",
       "      <td>5</td>\n",
       "      <td>NaN</td>\n",
       "      <td>NaN</td>\n",
       "      <td>NaN</td>\n",
       "      <td>NaN</td>\n",
       "      <td>1.0</td>\n",
       "      <td>Giao dich thanh toan</td>\n",
       "      <td>1.0</td>\n",
       "      <td>0.000062</td>\n",
       "    </tr>\n",
       "    <tr>\n",
       "      <th>2</th>\n",
       "      <td>MALE</td>\n",
       "      <td>Married</td>\n",
       "      <td>1.0</td>\n",
       "      <td>250.0</td>\n",
       "      <td>8989.0</td>\n",
       "      <td>1980.0</td>\n",
       "      <td>NaN</td>\n",
       "      <td>NaN</td>\n",
       "      <td>NaN</td>\n",
       "      <td>NaN</td>\n",
       "      <td>...</td>\n",
       "      <td>2</td>\n",
       "      <td>7</td>\n",
       "      <td>4.0</td>\n",
       "      <td>Giao dich chuyen khoan</td>\n",
       "      <td>6.0</td>\n",
       "      <td>0.000046</td>\n",
       "      <td>1.0</td>\n",
       "      <td>Giao dich chuyen khoan</td>\n",
       "      <td>2.0</td>\n",
       "      <td>0.000071</td>\n",
       "    </tr>\n",
       "    <tr>\n",
       "      <th>3</th>\n",
       "      <td>MALE</td>\n",
       "      <td>Single</td>\n",
       "      <td>40.0</td>\n",
       "      <td>431.0</td>\n",
       "      <td>18055.0</td>\n",
       "      <td>2001.0</td>\n",
       "      <td>NaN</td>\n",
       "      <td>NaN</td>\n",
       "      <td>NaN</td>\n",
       "      <td>NaN</td>\n",
       "      <td>...</td>\n",
       "      <td>1</td>\n",
       "      <td>1</td>\n",
       "      <td>NaN</td>\n",
       "      <td>NaN</td>\n",
       "      <td>NaN</td>\n",
       "      <td>NaN</td>\n",
       "      <td>NaN</td>\n",
       "      <td>NaN</td>\n",
       "      <td>NaN</td>\n",
       "      <td>NaN</td>\n",
       "    </tr>\n",
       "    <tr>\n",
       "      <th>4</th>\n",
       "      <td>MALE</td>\n",
       "      <td>Married</td>\n",
       "      <td>49.0</td>\n",
       "      <td>512.0</td>\n",
       "      <td>20758.0</td>\n",
       "      <td>1989.0</td>\n",
       "      <td>0.0</td>\n",
       "      <td>0.000114</td>\n",
       "      <td>0.000636</td>\n",
       "      <td>0.0</td>\n",
       "      <td>...</td>\n",
       "      <td>3</td>\n",
       "      <td>24</td>\n",
       "      <td>9.0</td>\n",
       "      <td>Giao dich chuyen khoan</td>\n",
       "      <td>10.0</td>\n",
       "      <td>0.000170</td>\n",
       "      <td>17.0</td>\n",
       "      <td>Giao dich chuyen khoan</td>\n",
       "      <td>19.0</td>\n",
       "      <td>0.000575</td>\n",
       "    </tr>\n",
       "    <tr>\n",
       "      <th>...</th>\n",
       "      <td>...</td>\n",
       "      <td>...</td>\n",
       "      <td>...</td>\n",
       "      <td>...</td>\n",
       "      <td>...</td>\n",
       "      <td>...</td>\n",
       "      <td>...</td>\n",
       "      <td>...</td>\n",
       "      <td>...</td>\n",
       "      <td>...</td>\n",
       "      <td>...</td>\n",
       "      <td>...</td>\n",
       "      <td>...</td>\n",
       "      <td>...</td>\n",
       "      <td>...</td>\n",
       "      <td>...</td>\n",
       "      <td>...</td>\n",
       "      <td>...</td>\n",
       "      <td>...</td>\n",
       "      <td>...</td>\n",
       "      <td>...</td>\n",
       "    </tr>\n",
       "    <tr>\n",
       "      <th>99995</th>\n",
       "      <td>FEMALE</td>\n",
       "      <td>Single</td>\n",
       "      <td>1.0</td>\n",
       "      <td>6.0</td>\n",
       "      <td>178.0</td>\n",
       "      <td>1992.0</td>\n",
       "      <td>NaN</td>\n",
       "      <td>NaN</td>\n",
       "      <td>NaN</td>\n",
       "      <td>NaN</td>\n",
       "      <td>...</td>\n",
       "      <td>1</td>\n",
       "      <td>2</td>\n",
       "      <td>16.0</td>\n",
       "      <td>Giao dich chuyen khoan</td>\n",
       "      <td>18.0</td>\n",
       "      <td>0.000108</td>\n",
       "      <td>15.0</td>\n",
       "      <td>Giao dich chuyen khoan</td>\n",
       "      <td>16.0</td>\n",
       "      <td>0.000351</td>\n",
       "    </tr>\n",
       "    <tr>\n",
       "      <th>99996</th>\n",
       "      <td>MALE</td>\n",
       "      <td>Single</td>\n",
       "      <td>25.0</td>\n",
       "      <td>239.0</td>\n",
       "      <td>8689.0</td>\n",
       "      <td>2001.0</td>\n",
       "      <td>NaN</td>\n",
       "      <td>NaN</td>\n",
       "      <td>NaN</td>\n",
       "      <td>0.0</td>\n",
       "      <td>...</td>\n",
       "      <td>1</td>\n",
       "      <td>1</td>\n",
       "      <td>NaN</td>\n",
       "      <td>NaN</td>\n",
       "      <td>NaN</td>\n",
       "      <td>NaN</td>\n",
       "      <td>8.0</td>\n",
       "      <td>GIAO DICH PHI TAI CHINH</td>\n",
       "      <td>15.0</td>\n",
       "      <td>0.000116</td>\n",
       "    </tr>\n",
       "    <tr>\n",
       "      <th>99997</th>\n",
       "      <td>FEMALE</td>\n",
       "      <td>Married</td>\n",
       "      <td>31.0</td>\n",
       "      <td>316.0</td>\n",
       "      <td>11842.0</td>\n",
       "      <td>1987.0</td>\n",
       "      <td>NaN</td>\n",
       "      <td>NaN</td>\n",
       "      <td>NaN</td>\n",
       "      <td>NaN</td>\n",
       "      <td>...</td>\n",
       "      <td>2</td>\n",
       "      <td>4</td>\n",
       "      <td>5.0</td>\n",
       "      <td>Giao dich chuyen khoan</td>\n",
       "      <td>9.0</td>\n",
       "      <td>0.000436</td>\n",
       "      <td>2.0</td>\n",
       "      <td>Giao dich chuyen khoan</td>\n",
       "      <td>3.0</td>\n",
       "      <td>0.000170</td>\n",
       "    </tr>\n",
       "    <tr>\n",
       "      <th>99998</th>\n",
       "      <td>MALE</td>\n",
       "      <td>Single</td>\n",
       "      <td>1.0</td>\n",
       "      <td>271.0</td>\n",
       "      <td>9706.0</td>\n",
       "      <td>2002.0</td>\n",
       "      <td>NaN</td>\n",
       "      <td>NaN</td>\n",
       "      <td>NaN</td>\n",
       "      <td>NaN</td>\n",
       "      <td>...</td>\n",
       "      <td>1</td>\n",
       "      <td>1</td>\n",
       "      <td>29.0</td>\n",
       "      <td>Giao dich chuyen khoan</td>\n",
       "      <td>36.0</td>\n",
       "      <td>0.000090</td>\n",
       "      <td>12.0</td>\n",
       "      <td>Giao dich chuyen khoan</td>\n",
       "      <td>13.0</td>\n",
       "      <td>0.000143</td>\n",
       "    </tr>\n",
       "    <tr>\n",
       "      <th>99999</th>\n",
       "      <td>MALE</td>\n",
       "      <td>Single</td>\n",
       "      <td>26.0</td>\n",
       "      <td>251.0</td>\n",
       "      <td>9070.0</td>\n",
       "      <td>2001.0</td>\n",
       "      <td>NaN</td>\n",
       "      <td>NaN</td>\n",
       "      <td>NaN</td>\n",
       "      <td>0.0</td>\n",
       "      <td>...</td>\n",
       "      <td>1</td>\n",
       "      <td>1</td>\n",
       "      <td>6.0</td>\n",
       "      <td>Giao dich chuyen khoan</td>\n",
       "      <td>8.0</td>\n",
       "      <td>0.000019</td>\n",
       "      <td>19.0</td>\n",
       "      <td>Giao dich chuyen khoan</td>\n",
       "      <td>22.0</td>\n",
       "      <td>0.000109</td>\n",
       "    </tr>\n",
       "  </tbody>\n",
       "</table>\n",
       "<p>100000 rows × 35 columns</p>\n",
       "</div>"
      ],
      "text/plain": [
       "      local_ref_1 vn_marital_status  resid_province  resid_district  \\\n",
       "0            MALE           Married            27.0           262.0   \n",
       "1            MALE            Single            79.0           769.0   \n",
       "2            MALE           Married             1.0           250.0   \n",
       "3            MALE            Single            40.0           431.0   \n",
       "4            MALE           Married            49.0           512.0   \n",
       "...           ...               ...             ...             ...   \n",
       "99995      FEMALE            Single             1.0             6.0   \n",
       "99996        MALE            Single            25.0           239.0   \n",
       "99997      FEMALE           Married            31.0           316.0   \n",
       "99998        MALE            Single             1.0           271.0   \n",
       "99999        MALE            Single            26.0           251.0   \n",
       "\n",
       "       resid_wards  birth_incorp_date  amount_week  max_amount_week  \\\n",
       "0           9436.0             1992.0          NaN              NaN   \n",
       "1          27097.0             1986.0          NaN              NaN   \n",
       "2           8989.0             1980.0          NaN              NaN   \n",
       "3          18055.0             2001.0          NaN              NaN   \n",
       "4          20758.0             1989.0          0.0         0.000114   \n",
       "...            ...                ...          ...              ...   \n",
       "99995        178.0             1992.0          NaN              NaN   \n",
       "99996       8689.0             2001.0          NaN              NaN   \n",
       "99997      11842.0             1987.0          NaN              NaN   \n",
       "99998       9706.0             2002.0          NaN              NaN   \n",
       "99999       9070.0             2001.0          NaN              NaN   \n",
       "\n",
       "       min_amount_week  distinct_payment_code_week  ...  \\\n",
       "0                  NaN                         0.0  ...   \n",
       "1                  NaN                         NaN  ...   \n",
       "2                  NaN                         NaN  ...   \n",
       "3                  NaN                         NaN  ...   \n",
       "4             0.000636                         0.0  ...   \n",
       "...                ...                         ...  ...   \n",
       "99995              NaN                         NaN  ...   \n",
       "99996              NaN                         0.0  ...   \n",
       "99997              NaN                         NaN  ...   \n",
       "99998              NaN                         NaN  ...   \n",
       "99999              NaN                         0.0  ...   \n",
       "\n",
       "       distinct_trans_group_3month  distinct_ref_no_3month  \\\n",
       "0                                2                      33   \n",
       "1                                2                       5   \n",
       "2                                2                       7   \n",
       "3                                1                       1   \n",
       "4                                3                      24   \n",
       "...                            ...                     ...   \n",
       "99995                            1                       2   \n",
       "99996                            1                       1   \n",
       "99997                            2                       4   \n",
       "99998                            1                       1   \n",
       "99999                            1                       1   \n",
       "\n",
       "       most_act_mar2021_count        most_act_mar2021  total_act_mar2021  \\\n",
       "0                         5.0  Giao dich chuyen khoan                5.0   \n",
       "1                         NaN                     NaN                NaN   \n",
       "2                         4.0  Giao dich chuyen khoan                6.0   \n",
       "3                         NaN                     NaN                NaN   \n",
       "4                         9.0  Giao dich chuyen khoan               10.0   \n",
       "...                       ...                     ...                ...   \n",
       "99995                    16.0  Giao dich chuyen khoan               18.0   \n",
       "99996                     NaN                     NaN                NaN   \n",
       "99997                     5.0  Giao dich chuyen khoan                9.0   \n",
       "99998                    29.0  Giao dich chuyen khoan               36.0   \n",
       "99999                     6.0  Giao dich chuyen khoan                8.0   \n",
       "\n",
       "       total_amt_mar2021  most_act_juin2021_count        most_act_juin2021  \\\n",
       "0               0.000016                     14.0   Giao dich chuyen khoan   \n",
       "1                    NaN                      1.0     Giao dich thanh toan   \n",
       "2               0.000046                      1.0   Giao dich chuyen khoan   \n",
       "3                    NaN                      NaN                      NaN   \n",
       "4               0.000170                     17.0   Giao dich chuyen khoan   \n",
       "...                  ...                      ...                      ...   \n",
       "99995           0.000108                     15.0   Giao dich chuyen khoan   \n",
       "99996                NaN                      8.0  GIAO DICH PHI TAI CHINH   \n",
       "99997           0.000436                      2.0   Giao dich chuyen khoan   \n",
       "99998           0.000090                     12.0   Giao dich chuyen khoan   \n",
       "99999           0.000019                     19.0   Giao dich chuyen khoan   \n",
       "\n",
       "       total_act_juin2021  total_amt_juin2021  \n",
       "0                    17.0            0.006543  \n",
       "1                     1.0            0.000062  \n",
       "2                     2.0            0.000071  \n",
       "3                     NaN                 NaN  \n",
       "4                    19.0            0.000575  \n",
       "...                   ...                 ...  \n",
       "99995                16.0            0.000351  \n",
       "99996                15.0            0.000116  \n",
       "99997                 3.0            0.000170  \n",
       "99998                13.0            0.000143  \n",
       "99999                22.0            0.000109  \n",
       "\n",
       "[100000 rows x 35 columns]"
      ]
     },
     "execution_count": 2,
     "metadata": {},
     "output_type": "execute_result"
    }
   ],
   "source": [
    "data = pd.read_csv('dataset.csv')\n",
    "data"
   ]
  },
  {
   "cell_type": "markdown",
   "id": "8f583b86",
   "metadata": {},
   "source": [
    "<h2> New Feature: Target Attribution"
   ]
  },
  {
   "cell_type": "markdown",
   "id": "f1dfd6ac",
   "metadata": {},
   "source": [
    "We define Churn Customers as customers who do not have any transactions in March 2021 and June 2021. Based on this definition, we created the target column 'Is_churn' to label Churn Customer as '1' and Active Customer as '0'."
   ]
  },
  {
   "cell_type": "code",
   "execution_count": 3,
   "id": "7ae099d3",
   "metadata": {},
   "outputs": [],
   "source": [
    "data[\"Is_churn\"] = np.where(\n",
    "   (data['total_amt_mar2021'].isna() == True) & (data['total_amt_juin2021'].isna() == True), 1, 0)"
   ]
  },
  {
   "cell_type": "markdown",
   "id": "ccb008ca",
   "metadata": {},
   "source": [
    "To handle the problem of building a Churn Customer forecasting model, we focused on analyzing the customer's performance over a period of 1 week, 1 month and 3 months from the last transaction of Churn Customers. In which, for the Null values ​​of the 3 columns 'amount_week', 'amount_month' and 'amount_3month', we consider Customers have no transaction in the period of 1 week, 1 month and those 3 months. Therefore, we removed these observations from the dataset."
   ]
  },
  {
   "cell_type": "code",
   "execution_count": 4,
   "id": "c3b1cd1c",
   "metadata": {},
   "outputs": [],
   "source": [
    "data.dropna(axis = 0, subset = ['amount_week', 'amount_month', 'amount_3month'], inplace = True)"
   ]
  },
  {
   "cell_type": "markdown",
   "id": "d05d09be",
   "metadata": {},
   "source": [
    "Observable features as of March 2021 and June 2021 only serve as reference data for the Target variable 'Is_churn'. Therefore, after creating the Target variable, we removed these features from the dataset."
   ]
  },
  {
   "cell_type": "code",
   "execution_count": 5,
   "id": "76de181f",
   "metadata": {},
   "outputs": [],
   "source": [
    "data = data.drop(['most_act_mar2021_count', 'most_act_mar2021', 'total_act_mar2021', 'total_amt_mar2021',\n",
    "           'most_act_juin2021_count', 'most_act_juin2021', 'total_act_juin2021', 'total_amt_juin2021'], axis = 1)"
   ]
  },
  {
   "cell_type": "code",
   "execution_count": 6,
   "id": "919eaec1",
   "metadata": {},
   "outputs": [
    {
     "data": {
      "text/plain": [
       "0    52303\n",
       "1     2497\n",
       "Name: Is_churn, dtype: int64"
      ]
     },
     "execution_count": 6,
     "metadata": {},
     "output_type": "execute_result"
    }
   ],
   "source": [
    "data['Is_churn'].value_counts()"
   ]
  },
  {
   "cell_type": "markdown",
   "id": "5f46dcf2",
   "metadata": {},
   "source": [
    "The dataset currently has 54.800 observations with 2497 Churn Customers and 52.303 Active Customers."
   ]
  },
  {
   "cell_type": "markdown",
   "id": "c41f2279",
   "metadata": {},
   "source": [
    "<h2> Create New Features"
   ]
  },
  {
   "cell_type": "markdown",
   "id": "baa76370",
   "metadata": {},
   "source": [
    "We've created features that represent the difference between the customer's largest and smallest transaction amount over the observed time periods."
   ]
  },
  {
   "cell_type": "code",
   "execution_count": 7,
   "id": "bb75f2a6",
   "metadata": {},
   "outputs": [],
   "source": [
    "data['diff_amount_week'] = data['max_amount_week'] - data['min_amount_week']\n",
    "data['diff_amount_month'] = data['max_amount_month'] - data['min_amount_month']\n",
    "data['diff_amount_3month'] = data['max_amount_3month'] - data['min_amount_3month']"
   ]
  },
  {
   "cell_type": "code",
   "execution_count": 8,
   "id": "6232831c",
   "metadata": {},
   "outputs": [
    {
     "name": "stdout",
     "output_type": "stream",
     "text": [
      "Shape of dataset: (54800, 31)\n"
     ]
    }
   ],
   "source": [
    "print('Shape of dataset:', data.shape)"
   ]
  },
  {
   "cell_type": "markdown",
   "id": "1b983038",
   "metadata": {},
   "source": [
    "Thus, the current dataset has 31 features and 54,800 observations."
   ]
  },
  {
   "cell_type": "markdown",
   "id": "bc1a21fb",
   "metadata": {},
   "source": [
    "<h2> Handle Missing Values"
   ]
  },
  {
   "cell_type": "markdown",
   "id": "9cdc5390",
   "metadata": {},
   "source": [
    "We check the dataset which features have missing data and counted the missing data ​​of each feature."
   ]
  },
  {
   "cell_type": "code",
   "execution_count": 9,
   "id": "df543eea",
   "metadata": {},
   "outputs": [
    {
     "name": "stdout",
     "output_type": "stream",
     "text": [
      "Missing columns:\n",
      " local_ref_1          1651\n",
      "vn_marital_status    1818\n",
      "resid_province       3812\n",
      "resid_district       3809\n",
      "resid_wards          3809\n",
      "birth_incorp_date       4\n",
      "dtype: int64\n"
     ]
    }
   ],
   "source": [
    "missing_values_count_by_column = data.isnull().sum()\n",
    "print('Missing columns:\\n', missing_values_count_by_column[missing_values_count_by_column > 0])"
   ]
  },
  {
   "cell_type": "markdown",
   "id": "a927dd5a",
   "metadata": {},
   "source": [
    "<h3> Handle Missing values of 'birth_incorp_date' column"
   ]
  },
  {
   "cell_type": "markdown",
   "id": "5f933ea1",
   "metadata": {},
   "source": [
    "The data in the 'birth_incorp_date' feature is being represented as the customer's year of birth. We have converted these values ​​to the age of the customers at the time of observation to facilitate the analysis."
   ]
  },
  {
   "cell_type": "code",
   "execution_count": 10,
   "id": "225f57a0",
   "metadata": {},
   "outputs": [],
   "source": [
    "data['birth_incorp_date'] = 2020 - data[['birth_incorp_date']]"
   ]
  },
  {
   "cell_type": "markdown",
   "id": "583e423a",
   "metadata": {},
   "source": [
    "Let's look at the distribution of values ​​in the 'birth_incorp_date' feature using a distplot."
   ]
  },
  {
   "cell_type": "code",
   "execution_count": 11,
   "id": "0de2640f",
   "metadata": {
    "scrolled": true
   },
   "outputs": [
    {
     "name": "stderr",
     "output_type": "stream",
     "text": [
      "C:\\Users\\Admin\\anaconda3\\lib\\site-packages\\seaborn\\distributions.py:2619: FutureWarning: `distplot` is a deprecated function and will be removed in a future version. Please adapt your code to use either `displot` (a figure-level function with similar flexibility) or `kdeplot` (an axes-level function for kernel density plots).\n",
      "  warnings.warn(msg, FutureWarning)\n"
     ]
    },
    {
     "data": {
      "image/png": "[encoded data removed]",
      "text/plain": [
       "<Figure size 432x288 with 1 Axes>"
      ]
     },
     "metadata": {
      "needs_background": "light"
     },
     "output_type": "display_data"
    }
   ],
   "source": [
    "sns.distplot(data['birth_incorp_date'], hist = False)\n",
    "plt.title('Age distribution chart of Customers')\n",
    "plt.xlabel('Age')\n",
    "plt.show()"
   ]
  },
  {
   "cell_type": "markdown",
   "id": "48933f61",
   "metadata": {},
   "source": [
    "Based on the chart above, we can see in this dataset, customers are aged from 0 to over 900 years old. We filtered the data from 6 to 100 years old for observations. For the remaining data that do not fall within this age range, we evaluate them as incorrect values."
   ]
  },
  {
   "cell_type": "markdown",
   "id": "da9ecd04",
   "metadata": {},
   "source": [
    "We replaced 4 missing values ​​in the 'birth_incorp_date' feature with the average age of our customers."
   ]
  },
  {
   "cell_type": "code",
   "execution_count": 12,
   "id": "5b4c8811",
   "metadata": {},
   "outputs": [],
   "source": [
    "# Create a dataframe of observations from 6-100 years old\n",
    "data1 = data.loc[(data['birth_incorp_date'] < 101) & (data['birth_incorp_date'] > 5)]\n",
    "\n",
    "# Calculate the average age of customers \n",
    "avg_age = data1['birth_incorp_date'].mean(axis=0)\n",
    "\n",
    "# Replace missing values with mean\n",
    "data['birth_incorp_date'].replace(np.nan, round(avg_age + 0.5), inplace = True)\n",
    "\n",
    "# Filter out customers with age less than 6 and over 100 years old from the dataset\n",
    "data = data.loc[(data['birth_incorp_date'] < 101) & (data['birth_incorp_date'] > 5)]"
   ]
  },
  {
   "cell_type": "markdown",
   "id": "ce62dbd9",
   "metadata": {},
   "source": [
    "<h3> Handle Missing values of 'vn_marital_status' column"
   ]
  },
  {
   "cell_type": "markdown",
   "id": "3903f582",
   "metadata": {},
   "source": [
    "Based on practical knowledge, we found that there is a correlation between the age and marital status of customers. We have conducted to find marital status trends and replace missing values with that value according to different age groups of customers. After learning about demographics, we divided our customers into 5 main age groups:\n",
    "- Group 1: Customers aged from 6 to 18 years old\n",
    "- Group 2: Customers aged from 19 to 24 years old\n",
    "- Group 3: Customers aged from 25 to 34 years old\n",
    "- Group 4: Customers aged from 35 to 44 years old\n",
    "- Group 5: Customers over 45 years old"
   ]
  },
  {
   "cell_type": "code",
   "execution_count": 13,
   "id": "5feab8bd",
   "metadata": {},
   "outputs": [],
   "source": [
    "# create impute_age_group function to group customer's age\n",
    "def impute_age_group(col):\n",
    "    birth_incorp_date = col[0]\n",
    "    if birth_incorp_date < 19:\n",
    "        return '6_18'\n",
    "    if birth_incorp_date < 25:\n",
    "        return '19_24'\n",
    "    if birth_incorp_date < 35:\n",
    "        return '25_34'\n",
    "    if birth_incorp_date < 45:\n",
    "        return '35_44'\n",
    "    else:\n",
    "        return 'Over 44'\n",
    "    \n",
    "# Create an 'age_group' feature that contains the customer's age group data\n",
    "data['age_group'] = data[['birth_incorp_date']].apply(impute_age_group, axis = 1)"
   ]
  },
  {
   "cell_type": "markdown",
   "id": "102c0944",
   "metadata": {},
   "source": [
    "We found trends in marital status of customers in each age group by groupby."
   ]
  },
  {
   "cell_type": "code",
   "execution_count": 14,
   "id": "75e5d6be",
   "metadata": {},
   "outputs": [
    {
     "data": {
      "text/plain": [
       "{'19_24': 'Single',\n",
       " '25_34': 'Single',\n",
       " '35_44': 'Married',\n",
       " '6_18': 'Single',\n",
       " 'Over 44': 'Married'}"
      ]
     },
     "execution_count": 14,
     "metadata": {},
     "output_type": "execute_result"
    }
   ],
   "source": [
    "# Create a variable to calculate the number of occurrences of the values in the 'vn_marital_status'.\n",
    "data['test_column'] = 1\n",
    "\n",
    "# Create a data_grtest consisting of observations of 3 features: 'vn_marital_status', 'age_group', 'test_column'\n",
    "data_grtest = data[['vn_marital_status', 'age_group', 'test_column']]\n",
    "\n",
    "# Create a dataframe showing frequency of the values in the 'vn_marital_status' appear by age group\n",
    "group_test = data_grtest.groupby(['age_group', 'vn_marital_status'], as_index = False).sum()\n",
    "\n",
    "# Create a function to find the value with the highest occurrence of each age group\n",
    "def marital_status(age_group):\n",
    "    sub_group = group_test[group_test['age_group'] == age_group]\n",
    "    sub_group= sub_group[sub_group['test_column'] == sub_group['test_column'].max()]\n",
    "    return sub_group.iloc[0]['vn_marital_status']\n",
    "\n",
    "# Create a dictionary showing common marital status corresponding to each customer age group\n",
    "Age_group = group_test['age_group'].unique().tolist()\n",
    "my_dict = {age_group:marital_status(age_group) for age_group in Age_group}\n",
    "my_dict"
   ]
  },
  {
   "cell_type": "markdown",
   "id": "e802c174",
   "metadata": {},
   "source": [
    "After finding out the common marital status of each age group, we proceed to replace them with Null values ​​corresponding to the customer's age group."
   ]
  },
  {
   "cell_type": "code",
   "execution_count": 15,
   "id": "3d814f12",
   "metadata": {},
   "outputs": [],
   "source": [
    "def impute_marrital_status(cols):\n",
    "    vn_marital_status = cols[0]\n",
    "    age_group = cols[1]\n",
    "    if pd.isnull(vn_marital_status):\n",
    "        if (age_group == '6_18') or (age_group == '19_24') or (age_group == '25_34'):\n",
    "            return 'Single'\n",
    "        else:\n",
    "            return 'Married'\n",
    "    else:\n",
    "        return vn_marital_status"
   ]
  },
  {
   "cell_type": "code",
   "execution_count": 16,
   "id": "cd1c9fd8",
   "metadata": {},
   "outputs": [],
   "source": [
    "data['vn_marital_status'] = data[['vn_marital_status', 'age_group']].apply(impute_marrital_status, axis = 1)"
   ]
  },
  {
   "cell_type": "markdown",
   "id": "96e7a93c",
   "metadata": {},
   "source": [
    "<h3> Handle Missing values of 'local_ref_1' column"
   ]
  },
  {
   "cell_type": "markdown",
   "id": "e75384b5",
   "metadata": {},
   "source": [
    "We have implemented the same handling of Missing values in the 'local_ref_1' as in the 'vn_marital_status'. We found a correlation between 3 attributions: gender, age and marital status of the customers. Therefore, we replaced the Missing values of the 'local_ref_1' with the values that appeared most frequently on the basis of the customer's age group and marital status."
   ]
  },
  {
   "cell_type": "code",
   "execution_count": 17,
   "id": "14b5208e",
   "metadata": {},
   "outputs": [
    {
     "data": {
      "text/html": [
       "<div>\n",
       "<style scoped>\n",
       "    .dataframe tbody tr th:only-of-type {\n",
       "        vertical-align: middle;\n",
       "    }\n",
       "\n",
       "    .dataframe tbody tr th {\n",
       "        vertical-align: top;\n",
       "    }\n",
       "\n",
       "    .dataframe thead th {\n",
       "        text-align: right;\n",
       "    }\n",
       "</style>\n",
       "<table border=\"1\" class=\"dataframe\">\n",
       "  <thead>\n",
       "    <tr style=\"text-align: right;\">\n",
       "      <th></th>\n",
       "      <th>age_group</th>\n",
       "      <th>vn_marital_status</th>\n",
       "      <th>sex</th>\n",
       "    </tr>\n",
       "  </thead>\n",
       "  <tbody>\n",
       "    <tr>\n",
       "      <th>0</th>\n",
       "      <td>19_24</td>\n",
       "      <td>Married</td>\n",
       "      <td>MALE</td>\n",
       "    </tr>\n",
       "    <tr>\n",
       "      <th>1</th>\n",
       "      <td>19_24</td>\n",
       "      <td>Other</td>\n",
       "      <td>FEMALE</td>\n",
       "    </tr>\n",
       "    <tr>\n",
       "      <th>2</th>\n",
       "      <td>19_24</td>\n",
       "      <td>Partner</td>\n",
       "      <td>MALE</td>\n",
       "    </tr>\n",
       "    <tr>\n",
       "      <th>3</th>\n",
       "      <td>19_24</td>\n",
       "      <td>Single</td>\n",
       "      <td>MALE</td>\n",
       "    </tr>\n",
       "    <tr>\n",
       "      <th>4</th>\n",
       "      <td>25_34</td>\n",
       "      <td>Divorced</td>\n",
       "      <td>FEMALE</td>\n",
       "    </tr>\n",
       "    <tr>\n",
       "      <th>5</th>\n",
       "      <td>25_34</td>\n",
       "      <td>Married</td>\n",
       "      <td>MALE</td>\n",
       "    </tr>\n",
       "    <tr>\n",
       "      <th>6</th>\n",
       "      <td>25_34</td>\n",
       "      <td>Other</td>\n",
       "      <td>MALE</td>\n",
       "    </tr>\n",
       "    <tr>\n",
       "      <th>7</th>\n",
       "      <td>25_34</td>\n",
       "      <td>Partner</td>\n",
       "      <td>MALE</td>\n",
       "    </tr>\n",
       "    <tr>\n",
       "      <th>8</th>\n",
       "      <td>25_34</td>\n",
       "      <td>Seperated</td>\n",
       "      <td>FEMALE</td>\n",
       "    </tr>\n",
       "    <tr>\n",
       "      <th>9</th>\n",
       "      <td>25_34</td>\n",
       "      <td>Single</td>\n",
       "      <td>MALE</td>\n",
       "    </tr>\n",
       "    <tr>\n",
       "      <th>10</th>\n",
       "      <td>25_34</td>\n",
       "      <td>Widow</td>\n",
       "      <td>FEMALE</td>\n",
       "    </tr>\n",
       "    <tr>\n",
       "      <th>11</th>\n",
       "      <td>35_44</td>\n",
       "      <td>Divorced</td>\n",
       "      <td>MALE</td>\n",
       "    </tr>\n",
       "    <tr>\n",
       "      <th>12</th>\n",
       "      <td>35_44</td>\n",
       "      <td>Married</td>\n",
       "      <td>MALE</td>\n",
       "    </tr>\n",
       "    <tr>\n",
       "      <th>13</th>\n",
       "      <td>35_44</td>\n",
       "      <td>Other</td>\n",
       "      <td>MALE</td>\n",
       "    </tr>\n",
       "    <tr>\n",
       "      <th>14</th>\n",
       "      <td>35_44</td>\n",
       "      <td>Partner</td>\n",
       "      <td>MALE</td>\n",
       "    </tr>\n",
       "    <tr>\n",
       "      <th>15</th>\n",
       "      <td>35_44</td>\n",
       "      <td>Single</td>\n",
       "      <td>MALE</td>\n",
       "    </tr>\n",
       "    <tr>\n",
       "      <th>16</th>\n",
       "      <td>6_18</td>\n",
       "      <td>Married</td>\n",
       "      <td>MALE</td>\n",
       "    </tr>\n",
       "    <tr>\n",
       "      <th>17</th>\n",
       "      <td>6_18</td>\n",
       "      <td>Other</td>\n",
       "      <td>MALE</td>\n",
       "    </tr>\n",
       "    <tr>\n",
       "      <th>18</th>\n",
       "      <td>6_18</td>\n",
       "      <td>Single</td>\n",
       "      <td>MALE</td>\n",
       "    </tr>\n",
       "    <tr>\n",
       "      <th>19</th>\n",
       "      <td>Over 44</td>\n",
       "      <td>Divorced</td>\n",
       "      <td>FEMALE</td>\n",
       "    </tr>\n",
       "    <tr>\n",
       "      <th>20</th>\n",
       "      <td>Over 44</td>\n",
       "      <td>Married</td>\n",
       "      <td>MALE</td>\n",
       "    </tr>\n",
       "    <tr>\n",
       "      <th>21</th>\n",
       "      <td>Over 44</td>\n",
       "      <td>Other</td>\n",
       "      <td>MALE</td>\n",
       "    </tr>\n",
       "    <tr>\n",
       "      <th>22</th>\n",
       "      <td>Over 44</td>\n",
       "      <td>Partner</td>\n",
       "      <td>MALE</td>\n",
       "    </tr>\n",
       "    <tr>\n",
       "      <th>23</th>\n",
       "      <td>Over 44</td>\n",
       "      <td>Seperated</td>\n",
       "      <td>FEMALE</td>\n",
       "    </tr>\n",
       "    <tr>\n",
       "      <th>24</th>\n",
       "      <td>Over 44</td>\n",
       "      <td>Single</td>\n",
       "      <td>MALE</td>\n",
       "    </tr>\n",
       "  </tbody>\n",
       "</table>\n",
       "</div>"
      ],
      "text/plain": [
       "   age_group vn_marital_status     sex\n",
       "0      19_24           Married    MALE\n",
       "1      19_24             Other  FEMALE\n",
       "2      19_24           Partner    MALE\n",
       "3      19_24            Single    MALE\n",
       "4      25_34          Divorced  FEMALE\n",
       "5      25_34           Married    MALE\n",
       "6      25_34             Other    MALE\n",
       "7      25_34           Partner    MALE\n",
       "8      25_34         Seperated  FEMALE\n",
       "9      25_34            Single    MALE\n",
       "10     25_34             Widow  FEMALE\n",
       "11     35_44          Divorced    MALE\n",
       "12     35_44           Married    MALE\n",
       "13     35_44             Other    MALE\n",
       "14     35_44           Partner    MALE\n",
       "15     35_44            Single    MALE\n",
       "16      6_18           Married    MALE\n",
       "17      6_18             Other    MALE\n",
       "18      6_18            Single    MALE\n",
       "19   Over 44          Divorced  FEMALE\n",
       "20   Over 44           Married    MALE\n",
       "21   Over 44             Other    MALE\n",
       "22   Over 44           Partner    MALE\n",
       "23   Over 44         Seperated  FEMALE\n",
       "24   Over 44            Single    MALE"
      ]
     },
     "execution_count": 17,
     "metadata": {},
     "output_type": "execute_result"
    }
   ],
   "source": [
    "pd.options.display.max_rows = 100\n",
    "# Create data_grtest1 consisting observations of 4 features: 'local_ref_1', 'age_group', 'vn_marital_status', 'test_column'\n",
    "data_grtest1 = data[['local_ref_1','vn_marital_status', 'age_group', 'test_column']]\n",
    "\n",
    "# Create a dataframe showing the frequency of values' occurrence  in the 'local_ref_1' according to each age group's marital status\n",
    "group_test1 = data_grtest1.groupby(['age_group', 'vn_marital_status', 'local_ref_1'], as_index = False).sum()\n",
    "\n",
    "# Create a function to find the gender with the most occurrence of each marital status by age group\n",
    "def impute_marital_status(cols):\n",
    "    age_group = cols[0]\n",
    "    marital_status = cols[1]\n",
    "    sub_group1 = group_test1[(group_test1['age_group'] == age_group) & (group_test1['vn_marital_status'] == marital_status)]\n",
    "    sub_group1 = sub_group1[sub_group1['test_column'] == sub_group1['test_column'].max()]\n",
    "    return sub_group1.iloc[0]['local_ref_1']\n",
    "\n",
    "# Create a dataframe showing the gender trend of the customers based on age group and marital status\n",
    "sub_group2 = group_test[['age_group', 'vn_marital_status']]\n",
    "sub_group2['sex'] = sub_group2[['age_group', 'vn_marital_status']].apply(impute_marital_status, axis = 1)\n",
    "sub_group2"
   ]
  },
  {
   "cell_type": "markdown",
   "id": "6106b924",
   "metadata": {},
   "source": [
    "Based on the table above, we have replaced the Missing values of the 'local_ref_1' with the corresponding gender value."
   ]
  },
  {
   "cell_type": "code",
   "execution_count": 18,
   "id": "aa98a898",
   "metadata": {},
   "outputs": [],
   "source": [
    "def impute_sex(cols):\n",
    "    sex = cols[0]\n",
    "    age_group = cols[1]\n",
    "    vn_marital_status = cols[2]\n",
    "    if pd.isnull(sex):\n",
    "        if (age_group == '6_18') or (age_group == '35_44'):\n",
    "            return 'MALE'\n",
    "        if age_group == '19_24':\n",
    "            if vn_marital_status == 'Other':\n",
    "                return 'FEMALE'\n",
    "            else:\n",
    "                return 'MALE'\n",
    "        if age_group == '25_34':\n",
    "            if (vn_marital_status == 'Divorced') or (vn_marital_status == 'Seperated') or (vn_marital_status == 'Widow'):\n",
    "                return 'FEMALE'\n",
    "            else:\n",
    "                return 'MALE'\n",
    "        else:\n",
    "            if (vn_marital_status == 'Divorced') or (vn_marital_status == 'Seperated'):\n",
    "                return 'FEMALE'\n",
    "            else:\n",
    "                return 'MALE'\n",
    "    else:\n",
    "        return sex"
   ]
  },
  {
   "cell_type": "code",
   "execution_count": 19,
   "id": "b9532535",
   "metadata": {},
   "outputs": [],
   "source": [
    "data['local_ref_1'] = data[['local_ref_1', 'age_group', 'vn_marital_status']].apply(impute_sex, axis = 1)"
   ]
  },
  {
   "cell_type": "markdown",
   "id": "462f139b",
   "metadata": {},
   "source": [
    "<h3> Handle Missing values of 'resid_province' column"
   ]
  },
  {
   "cell_type": "markdown",
   "id": "f64d7eaa",
   "metadata": {},
   "source": [
    "We replace the missing values in the customer's live city feature with the value that occurs most often."
   ]
  },
  {
   "cell_type": "code",
   "execution_count": 20,
   "id": "0037a2ba",
   "metadata": {},
   "outputs": [],
   "source": [
    "# Find the value with the highest frequency in the 'resid_province'\n",
    "frequency = data['resid_province'].value_counts().idxmax()\n",
    "\n",
    "# Replace NaN values with frequency\n",
    "data['resid_province'].replace(np.nan, frequency, inplace = True)"
   ]
  },
  {
   "cell_type": "markdown",
   "id": "2aa00ad3",
   "metadata": {},
   "source": [
    "'resid_district' and 'resid_wards' do not contain much information useful for analysis. Therefore, we removed these 2 features from the dataset."
   ]
  },
  {
   "cell_type": "code",
   "execution_count": 21,
   "id": "20a00af2",
   "metadata": {},
   "outputs": [],
   "source": [
    "data.drop(['resid_district', 'resid_wards', 'age_group', 'test_column'], axis = 1, inplace = True)"
   ]
  },
  {
   "cell_type": "markdown",
   "id": "81d3ef00",
   "metadata": {},
   "source": [
    "<h2> Handle Outliers"
   ]
  },
  {
   "cell_type": "markdown",
   "id": "8196b9d0",
   "metadata": {},
   "source": [
    "During our analysis, we found that most of the features in the dataset contain Outliers values. Moreover, the number of Outliers is very large. We assessed that these Outliers are likely to be actual customer data, not subjective errors in the data entry process. Therefore, we dealt with the Outliers by 2 main methods: Capping and Binning."
   ]
  },
  {
   "cell_type": "markdown",
   "id": "2df40f32",
   "metadata": {},
   "source": [
    "<h3> Handle Outliers by Capping"
   ]
  },
  {
   "cell_type": "markdown",
   "id": "97dc2c9f",
   "metadata": {},
   "source": [
    "We will determine the Outliers, low_lim and up_lim limits of each feature using the IQR method. Then we will process those Outliers using the Capping method:\n",
    "- If the Outliers value is greater than up_lim, we replace those Outliers with up_lim\n",
    "- If Outliers value is less than low_lim, we will replace those Outliers with low_lim"
   ]
  },
  {
   "cell_type": "markdown",
   "id": "44533b72",
   "metadata": {},
   "source": [
    "We will apply the Capping method to handle the Outliers of the following 17 features:\n",
    "- ‘max_amount_week’\n",
    "- ‘min_amount_week’\n",
    "- ‘diff_amount_week’\n",
    "- ‘count_payment_code_week’\n",
    "- ‘distinct_ref_no_week’\n",
    "- ‘amount_month’\n",
    "- ‘max_amount_month’\n",
    "- ‘min_amount_month’\n",
    "- ‘diff_amount_month’\n",
    "- ‘count_payment_code_month’\n",
    "- ‘distinct_ref_no_month’\n",
    "- ‘amount_3month’\n",
    "- ‘max_amount_3month’\n",
    "- ‘min_amount_3month’\n",
    "- ‘diff_amount_3month’\n",
    "- ‘count_payment_code_3month’\n",
    "-  ‘distinct_ref_no_3month’"
   ]
  },
  {
   "cell_type": "code",
   "execution_count": 22,
   "id": "af3aa908",
   "metadata": {},
   "outputs": [],
   "source": [
    "# Create a function to find up_lim of the feature need to be processed\n",
    "def up_lim(column):\n",
    "    Q1 = np.percentile(column, 25, interpolation = 'midpoint')\n",
    "    Q3 = np.percentile(column, 75, interpolation = 'midpoint')\n",
    "    IQR = Q3 - Q1\n",
    "    up_lim = Q3 + 1.5 * IQR\n",
    "    return up_lim\n",
    "\n",
    "# Create a function to find low_lim of the feature need to be processed\n",
    "def low_lim(column):\n",
    "    Q1 = np.percentile(column, 25, interpolation = 'midpoint')\n",
    "    Q3 = np.percentile(column, 75, interpolation = 'midpoint')\n",
    "    IQR = Q3 - Q1\n",
    "    low_lim = Q1 - 1.5 * IQR\n",
    "    return low_lim\n",
    "\n",
    "# Create a handle_outliers_by_capping function to handle Outliers using the Capping method\n",
    "def handle_outliers_by_capping(cols):\n",
    "    column_value = cols[0]\n",
    "    low_lim = cols[1]\n",
    "    up_lim = cols[2]\n",
    "    if column_value < low_lim:\n",
    "        return low_lim\n",
    "    if column_value > up_lim:\n",
    "        return up_lim\n",
    "    else:\n",
    "        return column_value"
   ]
  },
  {
   "cell_type": "markdown",
   "id": "f90821ef",
   "metadata": {},
   "source": [
    "<h5> Handle Outliers in 'max_amount_week' column"
   ]
  },
  {
   "cell_type": "code",
   "execution_count": 23,
   "id": "2fbc5281",
   "metadata": {},
   "outputs": [],
   "source": [
    "data['low_lim'] = low_lim(data['max_amount_week'])\n",
    "data['up_lim'] = up_lim(data['max_amount_week'])\n",
    "data['max_amount_week'] = data[['max_amount_week', 'low_lim', 'up_lim']].apply(handle_outliers_by_capping, axis = 1)"
   ]
  },
  {
   "cell_type": "markdown",
   "id": "43e0672a",
   "metadata": {},
   "source": [
    "<h5> Handle Outliers in 'min_amount_week' column"
   ]
  },
  {
   "cell_type": "code",
   "execution_count": 24,
   "id": "82434171",
   "metadata": {},
   "outputs": [],
   "source": [
    "data['low_lim'] = low_lim(data['min_amount_week'])\n",
    "data['up_lim'] = up_lim(data['min_amount_week'])\n",
    "data['min_amount_week'] = data[['min_amount_week', 'low_lim', 'up_lim']].apply(handle_outliers_by_capping, axis = 1)"
   ]
  },
  {
   "cell_type": "markdown",
   "id": "7d267108",
   "metadata": {},
   "source": [
    "<h5> Handle Outliers in 'diff_amount_week' column"
   ]
  },
  {
   "cell_type": "code",
   "execution_count": 25,
   "id": "a35f3a0b",
   "metadata": {},
   "outputs": [],
   "source": [
    "data['low_lim'] = low_lim(data['diff_amount_week'])\n",
    "data['up_lim'] = up_lim(data['diff_amount_week'])\n",
    "data['diff_amount_week'] = data[['diff_amount_week', 'low_lim', 'up_lim']].apply(handle_outliers_by_capping, axis = 1)"
   ]
  },
  {
   "cell_type": "markdown",
   "id": "797ac991",
   "metadata": {},
   "source": [
    "<h5> Handle Outliers in 'count_payment_code_week' column"
   ]
  },
  {
   "cell_type": "code",
   "execution_count": 26,
   "id": "ef8ad989",
   "metadata": {},
   "outputs": [],
   "source": [
    "data['low_lim'] = low_lim(data['count_payment_code_week'])\n",
    "data['up_lim'] = up_lim(data['count_payment_code_week'])\n",
    "data['count_payment_code_week'] = data[['count_payment_code_week', 'low_lim', 'up_lim']].apply(handle_outliers_by_capping, \n",
    "                                                                                               axis = 1)"
   ]
  },
  {
   "cell_type": "markdown",
   "id": "c55848da",
   "metadata": {},
   "source": [
    "<h5> Handle Outliers in 'distinct_ref_no_week' column"
   ]
  },
  {
   "cell_type": "code",
   "execution_count": 27,
   "id": "6116762b",
   "metadata": {},
   "outputs": [],
   "source": [
    "data['low_lim'] = low_lim(data['distinct_ref_no_week'])\n",
    "data['up_lim'] = up_lim(data['distinct_ref_no_week'])\n",
    "data['distinct_ref_no_week'] = data[['distinct_ref_no_week', 'low_lim', 'up_lim']].apply(handle_outliers_by_capping, \n",
    "                                                                                               axis = 1)"
   ]
  },
  {
   "cell_type": "markdown",
   "id": "196ff1c3",
   "metadata": {},
   "source": [
    "<h5> Handle Outliers in 'amount_month' column"
   ]
  },
  {
   "cell_type": "code",
   "execution_count": 28,
   "id": "a1a6a25e",
   "metadata": {},
   "outputs": [],
   "source": [
    "data['low_lim'] = low_lim(data['amount_month'])\n",
    "data['up_lim'] = up_lim(data['amount_month'])\n",
    "data['amount_month'] = data[['amount_month', 'low_lim', 'up_lim']].apply(handle_outliers_by_capping, axis = 1)"
   ]
  },
  {
   "cell_type": "markdown",
   "id": "426fee83",
   "metadata": {},
   "source": [
    "\n",
    "<h5> Handle Outliers in 'max_amount_month' column"
   ]
  },
  {
   "cell_type": "code",
   "execution_count": 29,
   "id": "12f15b70",
   "metadata": {},
   "outputs": [],
   "source": [
    "data['low_lim'] = low_lim(data['max_amount_month'])\n",
    "data['up_lim'] = up_lim(data['max_amount_month'])\n",
    "data['max_amount_month'] = data[['max_amount_month', 'low_lim', 'up_lim']].apply(handle_outliers_by_capping, axis = 1)"
   ]
  },
  {
   "cell_type": "markdown",
   "id": "1c3d18be",
   "metadata": {},
   "source": [
    "<h5> Handle Outliers in 'min_amount_month' column"
   ]
  },
  {
   "cell_type": "code",
   "execution_count": 30,
   "id": "d54ffa96",
   "metadata": {},
   "outputs": [],
   "source": [
    "data['low_lim'] = low_lim(data['min_amount_month'])\n",
    "data['up_lim'] = up_lim(data['min_amount_month'])\n",
    "data['min_amount_month'] = data[['min_amount_month', 'low_lim', 'up_lim']].apply(handle_outliers_by_capping, axis = 1)"
   ]
  },
  {
   "cell_type": "markdown",
   "id": "8d28bfc3",
   "metadata": {},
   "source": [
    "<h5> Handle Outliers in 'diff_amount_month' column"
   ]
  },
  {
   "cell_type": "code",
   "execution_count": 31,
   "id": "0b4987e9",
   "metadata": {},
   "outputs": [],
   "source": [
    "data['low_lim'] = low_lim(data['diff_amount_month'])\n",
    "data['up_lim'] = up_lim(data['diff_amount_month'])\n",
    "data['diff_amount_month'] = data[['diff_amount_month', 'low_lim', 'up_lim']].apply(handle_outliers_by_capping, axis = 1)"
   ]
  },
  {
   "cell_type": "markdown",
   "id": "5e63ee38",
   "metadata": {},
   "source": [
    "<h5> Handle Outliers in 'count_payment_code_month' column"
   ]
  },
  {
   "cell_type": "code",
   "execution_count": 32,
   "id": "cd9ee3a0",
   "metadata": {},
   "outputs": [],
   "source": [
    "data['low_lim'] = low_lim(data['count_payment_code_month'])\n",
    "data['up_lim'] = up_lim(data['count_payment_code_month'])\n",
    "data['count_payment_code_month'] = data[['count_payment_code_month', 'low_lim', 'up_lim']].apply(handle_outliers_by_capping, \n",
    "                                                                                                 axis = 1)"
   ]
  },
  {
   "cell_type": "markdown",
   "id": "88e396fe",
   "metadata": {},
   "source": [
    "<h5> Handle Outliers in 'distinct_ref_no_month' column"
   ]
  },
  {
   "cell_type": "code",
   "execution_count": 33,
   "id": "98f57937",
   "metadata": {},
   "outputs": [],
   "source": [
    "data['low_lim'] = low_lim(data['distinct_ref_no_month'])\n",
    "data['up_lim'] = up_lim(data['distinct_ref_no_month'])\n",
    "data['distinct_ref_no_month'] = data[['distinct_ref_no_month', 'low_lim', 'up_lim']].apply(handle_outliers_by_capping, \n",
    "                                                                                            axis = 1)"
   ]
  },
  {
   "cell_type": "markdown",
   "id": "b90a2a41",
   "metadata": {},
   "source": [
    "<h5> Handle Outliers in 'amount_3month' column"
   ]
  },
  {
   "cell_type": "code",
   "execution_count": 34,
   "id": "013f4437",
   "metadata": {},
   "outputs": [],
   "source": [
    "data['low_lim'] = low_lim(data['amount_3month'])\n",
    "data['up_lim'] = up_lim(data['amount_3month'])\n",
    "data['amount_3month'] = data[['amount_3month', 'low_lim', 'up_lim']].apply(handle_outliers_by_capping, axis = 1)"
   ]
  },
  {
   "cell_type": "markdown",
   "id": "3bc25aab",
   "metadata": {},
   "source": [
    "<h5> Handle Outliers in 'max_amount_3month' column"
   ]
  },
  {
   "cell_type": "code",
   "execution_count": 35,
   "id": "45fd09b8",
   "metadata": {},
   "outputs": [],
   "source": [
    "data['low_lim'] = low_lim(data['max_amount_3month'])\n",
    "data['up_lim'] = up_lim(data['max_amount_3month'])\n",
    "data['max_amount_3month'] = data[['max_amount_3month', 'low_lim', 'up_lim']].apply(handle_outliers_by_capping, axis = 1)"
   ]
  },
  {
   "cell_type": "markdown",
   "id": "6fcf1197",
   "metadata": {},
   "source": [
    "<h5> Handle Outliers in 'min_amount_3month' column"
   ]
  },
  {
   "cell_type": "code",
   "execution_count": 36,
   "id": "61e27805",
   "metadata": {},
   "outputs": [],
   "source": [
    "data['low_lim'] = low_lim(data['min_amount_3month'])\n",
    "data['up_lim'] = up_lim(data['min_amount_3month'])\n",
    "data['min_amount_3month'] = data[['min_amount_3month', 'low_lim', 'up_lim']].apply(handle_outliers_by_capping, axis = 1)"
   ]
  },
  {
   "cell_type": "markdown",
   "id": "3f83db09",
   "metadata": {},
   "source": [
    "<h5> Handle Outliers in 'diff_amount_3month' column"
   ]
  },
  {
   "cell_type": "code",
   "execution_count": 37,
   "id": "5640096f",
   "metadata": {},
   "outputs": [],
   "source": [
    "data['low_lim'] = low_lim(data['diff_amount_3month'])\n",
    "data['up_lim'] = up_lim(data['diff_amount_3month'])\n",
    "data['diff_amount_3month'] = data[['diff_amount_3month', 'low_lim', 'up_lim']].apply(handle_outliers_by_capping, axis = 1)"
   ]
  },
  {
   "cell_type": "markdown",
   "id": "f27bf6f0",
   "metadata": {},
   "source": [
    "<h5> Handle Outliers in 'count_payment_code_3month' column"
   ]
  },
  {
   "cell_type": "code",
   "execution_count": 38,
   "id": "0a0aca86",
   "metadata": {},
   "outputs": [],
   "source": [
    "data['low_lim'] = low_lim(data['count_payment_code_3month'])\n",
    "data['up_lim'] = up_lim(data['count_payment_code_3month'])\n",
    "data['count_payment_code_3month'] = data[['count_payment_code_3month', 'low_lim', 'up_lim']].apply(handle_outliers_by_capping, \n",
    "                                                                                                   axis = 1)"
   ]
  },
  {
   "cell_type": "markdown",
   "id": "e836aeba",
   "metadata": {},
   "source": [
    "<h5> Handle Outliers in 'distinct_ref_no_3month' column"
   ]
  },
  {
   "cell_type": "code",
   "execution_count": 39,
   "id": "5cce8054",
   "metadata": {},
   "outputs": [],
   "source": [
    "data['low_lim'] = low_lim(data['distinct_ref_no_3month'])\n",
    "data['up_lim'] = up_lim(data['distinct_ref_no_3month'])\n",
    "data['distinct_ref_no_3month'] = data[['distinct_ref_no_3month', 'low_lim', 'up_lim']].apply(handle_outliers_by_capping, \n",
    "                                                                                                   axis = 1)"
   ]
  },
  {
   "cell_type": "markdown",
   "id": "de5d25b9",
   "metadata": {},
   "source": [
    "After processing Outliers of 17 features using Capping method, we will delete the generated 2 features 'low_lim' and 'up_lim' from the dataset."
   ]
  },
  {
   "cell_type": "code",
   "execution_count": 40,
   "id": "b414d298",
   "metadata": {},
   "outputs": [],
   "source": [
    "data.drop(['low_lim', 'up_lim'], axis = 1, inplace = True)"
   ]
  },
  {
   "cell_type": "markdown",
   "id": "c528fe1b",
   "metadata": {},
   "source": [
    "<h3> Handle Outliers by Binning"
   ]
  },
  {
   "cell_type": "markdown",
   "id": "34854a90",
   "metadata": {},
   "source": [
    "For the Binning method, we will conduct grouping suitable for each feature of view."
   ]
  },
  {
   "cell_type": "markdown",
   "id": "25aac2fe",
   "metadata": {},
   "source": [
    "We will apply the Binning method to handle the Outliers of the following features:\n",
    "- ‘birth_incorp_date’\n",
    "- ‘distinct_payment_code_week’\n",
    "- ‘distinct_trans_group_week’\n",
    "- ‘distinct_payment_code_month’\n",
    "- ‘distinct_trans_group_month’\n",
    "- ‘distinct_payment_code_3month’\n",
    "- ‘distinct_trans_group_3month’"
   ]
  },
  {
   "cell_type": "markdown",
   "id": "06bbaa87",
   "metadata": {},
   "source": [
    "<h5> Handle Outliers in 'birth_incorp_date' column"
   ]
  },
  {
   "cell_type": "code",
   "execution_count": 41,
   "id": "0891b4db",
   "metadata": {
    "scrolled": true
   },
   "outputs": [
    {
     "data": {
      "text/plain": [
       "<AxesSubplot:ylabel='birth_incorp_date'>"
      ]
     },
     "execution_count": 41,
     "metadata": {},
     "output_type": "execute_result"
    },
    {
     "data": {
      "image/png": "[encoded data removed]",
      "text/plain": [
       "<Figure size 432x288 with 1 Axes>"
      ]
     },
     "metadata": {
      "needs_background": "light"
     },
     "output_type": "display_data"
    }
   ],
   "source": [
    "sns.boxplot(y = 'birth_incorp_date',data=data)"
   ]
  },
  {
   "cell_type": "markdown",
   "id": "af8a5b03",
   "metadata": {},
   "source": [
    "After assessing the psychology and consumer behavior of customers by age, we have divided the customers into 4 age groups:\n",
    "- Group 1: Customers aged from 6 to 17 years old\n",
    "- Group 2: Customers aged from 18 to 34 years old\n",
    "- Group 3: Customers aged from 35 to 55 years old\n",
    "- Group 4: Customers over 55 years old"
   ]
  },
  {
   "cell_type": "code",
   "execution_count": 42,
   "id": "fea73b24",
   "metadata": {},
   "outputs": [],
   "source": [
    "# Create a function to group age groups\n",
    "def impute_age_group(col):\n",
    "    birth_incorp_date = col[0]\n",
    "    if birth_incorp_date < 18:\n",
    "        return '6-17'\n",
    "    if birth_incorp_date < 35:\n",
    "        return '18-34'\n",
    "    if birth_incorp_date < 56:\n",
    "        return '35-55'\n",
    "    else:\n",
    "        return 'Over 55'\n",
    "\n",
    "# Group the customer's age group in the 'birth_incorp_date' feature using the impute_age_group function\n",
    "data['birth_incorp_date'] = data[['birth_incorp_date']].apply(impute_age_group, axis = 1)"
   ]
  },
  {
   "cell_type": "code",
   "execution_count": 43,
   "id": "541e6ce7",
   "metadata": {
    "scrolled": true
   },
   "outputs": [
    {
     "data": {
      "text/plain": [
       "18-34      35435\n",
       "35-55      18286\n",
       "Over 55      546\n",
       "6-17         523\n",
       "Name: birth_incorp_date, dtype: int64"
      ]
     },
     "execution_count": 43,
     "metadata": {},
     "output_type": "execute_result"
    }
   ],
   "source": [
    "data['birth_incorp_date'].value_counts()"
   ]
  },
  {
   "cell_type": "markdown",
   "id": "2985ef56",
   "metadata": {},
   "source": [
    "<h5> Handle Outliers in 'distinct_payment_code_week' column"
   ]
  },
  {
   "cell_type": "code",
   "execution_count": 44,
   "id": "5e49aa03",
   "metadata": {
    "scrolled": true
   },
   "outputs": [
    {
     "data": {
      "text/plain": [
       "<AxesSubplot:ylabel='distinct_payment_code_week'>"
      ]
     },
     "execution_count": 44,
     "metadata": {},
     "output_type": "execute_result"
    },
    {
     "data": {
      "image/png": "[encoded data removed]",
      "text/plain": [
       "<Figure size 432x288 with 1 Axes>"
      ]
     },
     "metadata": {
      "needs_background": "light"
     },
     "output_type": "display_data"
    }
   ],
   "source": [
    "sns.boxplot(y = 'distinct_payment_code_week',data=data)"
   ]
  },
  {
   "cell_type": "markdown",
   "id": "d0efe1c6",
   "metadata": {},
   "source": [
    "Based on the assessment of the amount of usage of each type of service, we have divided 6 types of services used in 1 week into 3 main service groups:\n",
    "- Group 1: includes service type 0\n",
    "- Group 2: includes service type 1\n",
    "- Group 3: including the rest of the bank's services"
   ]
  },
  {
   "cell_type": "code",
   "execution_count": 45,
   "id": "b22af810",
   "metadata": {},
   "outputs": [],
   "source": [
    "# Create a function to group services\n",
    "def impute_payment_code_group(col):\n",
    "    distinct_payment_code_week = col[0]\n",
    "    if distinct_payment_code_week < 2:\n",
    "        return distinct_payment_code_week\n",
    "    else:\n",
    "        return 'Other'\n",
    "\n",
    "# Group service type in 'distinct_payment_code_week' using impute_payment_code_group function\n",
    "data['distinct_payment_code_week'] = data[['distinct_payment_code_week']].apply(impute_payment_code_group, axis = 1)"
   ]
  },
  {
   "cell_type": "code",
   "execution_count": 46,
   "id": "45ed3be9",
   "metadata": {},
   "outputs": [
    {
     "data": {
      "text/plain": [
       "0.0      37035\n",
       "1.0      16482\n",
       "Other     1273\n",
       "Name: distinct_payment_code_week, dtype: int64"
      ]
     },
     "execution_count": 46,
     "metadata": {},
     "output_type": "execute_result"
    }
   ],
   "source": [
    "data['distinct_payment_code_week'].value_counts()"
   ]
  },
  {
   "cell_type": "markdown",
   "id": "43a0d16d",
   "metadata": {},
   "source": [
    "<h5> Handle Outliers in 'distinct_trans_group_week' column"
   ]
  },
  {
   "cell_type": "code",
   "execution_count": 47,
   "id": "72e5685c",
   "metadata": {
    "scrolled": true
   },
   "outputs": [
    {
     "data": {
      "text/plain": [
       "<AxesSubplot:ylabel='distinct_trans_group_week'>"
      ]
     },
     "execution_count": 47,
     "metadata": {},
     "output_type": "execute_result"
    },
    {
     "data": {
      "image/png": "[encoded data removed]",
      "text/plain": [
       "<Figure size 432x288 with 1 Axes>"
      ]
     },
     "metadata": {
      "needs_background": "light"
     },
     "output_type": "display_data"
    }
   ],
   "source": [
    "sns.boxplot(y = 'distinct_trans_group_week', data=data)"
   ]
  },
  {
   "cell_type": "markdown",
   "id": "38374b63",
   "metadata": {},
   "source": [
    "Based on the distribution of usage volume of each transaction group, we have divided 6 transaction groups into 3 main transaction groups for analysis:\n",
    "- Group 1: including transaction group 1\n",
    "- Group 2: including transaction group 2\n",
    "- Group 3: including the remaining 4 transaction groups of the bank (transaction groups 3, 4, 5, 6)"
   ]
  },
  {
   "cell_type": "code",
   "execution_count": 48,
   "id": "04bd9a7b",
   "metadata": {},
   "outputs": [],
   "source": [
    "# Create a function to group of bank transactions\n",
    "def impute_trans_group_week(col):\n",
    "    distinct_trans_group_week = col[0]\n",
    "    if distinct_trans_group_week < 3:\n",
    "        return distinct_trans_group_week\n",
    "    else:\n",
    "        return 'Other'\n",
    "\n",
    "# Group the transaction types in the 'distinct_trans_group_week' feature using the impute_trans_group_week function\n",
    "data['distinct_trans_group_week'] = data[['distinct_trans_group_week']].apply(impute_trans_group_week, axis = 1)"
   ]
  },
  {
   "cell_type": "code",
   "execution_count": 49,
   "id": "9079e2bc",
   "metadata": {},
   "outputs": [
    {
     "data": {
      "text/plain": [
       "1.0      32842\n",
       "2.0      17100\n",
       "Other     4848\n",
       "Name: distinct_trans_group_week, dtype: int64"
      ]
     },
     "execution_count": 49,
     "metadata": {},
     "output_type": "execute_result"
    }
   ],
   "source": [
    "data['distinct_trans_group_week'].value_counts()"
   ]
  },
  {
   "cell_type": "markdown",
   "id": "3a02f93b",
   "metadata": {},
   "source": [
    "<h5> Handle Outliers in 'distinct_payment_code_month' column"
   ]
  },
  {
   "cell_type": "code",
   "execution_count": 50,
   "id": "55a3b6d6",
   "metadata": {
    "scrolled": true
   },
   "outputs": [
    {
     "data": {
      "text/plain": [
       "<AxesSubplot:ylabel='distinct_payment_code_month'>"
      ]
     },
     "execution_count": 50,
     "metadata": {},
     "output_type": "execute_result"
    },
    {
     "data": {
      "image/png": "[encoded data removed]",
      "text/plain": [
       "<Figure size 432x288 with 1 Axes>"
      ]
     },
     "metadata": {
      "needs_background": "light"
     },
     "output_type": "display_data"
    }
   ],
   "source": [
    "sns.boxplot(y='distinct_payment_code_month',data=data)"
   ]
  },
  {
   "cell_type": "markdown",
   "id": "79fd31e4",
   "metadata": {},
   "source": [
    "During the previous 1-month period, there were 9 types of services used by customers. We also divide these types of services into 3 main groups:\n",
    "- Group 1: includes service type 0\n",
    "- Group 2: includes service type 1\n",
    "- Group 3: including the rest of the bank's services"
   ]
  },
  {
   "cell_type": "code",
   "execution_count": 51,
   "id": "16bb1df8",
   "metadata": {},
   "outputs": [],
   "source": [
    "data['distinct_payment_code_month'] = data[['distinct_payment_code_month']].apply(impute_payment_code_group, axis = 1)"
   ]
  },
  {
   "cell_type": "code",
   "execution_count": 52,
   "id": "b284c230",
   "metadata": {},
   "outputs": [
    {
     "data": {
      "text/plain": [
       "1.0      24868\n",
       "0.0      19940\n",
       "Other     9982\n",
       "Name: distinct_payment_code_month, dtype: int64"
      ]
     },
     "execution_count": 52,
     "metadata": {},
     "output_type": "execute_result"
    }
   ],
   "source": [
    "data['distinct_payment_code_month'].value_counts()"
   ]
  },
  {
   "cell_type": "markdown",
   "id": "2f13ce42",
   "metadata": {},
   "source": [
    "<h5> Handle Outliers in 'distinct_trans_group_month' column"
   ]
  },
  {
   "cell_type": "code",
   "execution_count": 53,
   "id": "e2be7dd6",
   "metadata": {
    "scrolled": false
   },
   "outputs": [
    {
     "data": {
      "text/plain": [
       "<AxesSubplot:ylabel='distinct_trans_group_month'>"
      ]
     },
     "execution_count": 53,
     "metadata": {},
     "output_type": "execute_result"
    },
    {
     "data": {
      "image/png": "[encoded data removed]",
      "text/plain": [
       "<Figure size 432x288 with 1 Axes>"
      ]
     },
     "metadata": {
      "needs_background": "light"
     },
     "output_type": "display_data"
    }
   ],
   "source": [
    "sns.boxplot(y='distinct_trans_group_month',data=data)"
   ]
  },
  {
   "cell_type": "markdown",
   "id": "3e2b7d58",
   "metadata": {},
   "source": [
    "We divide the customer's previous 1 month transaction groups into 4 main groups:\n",
    "- Group 1: including transaction group 1\n",
    "- Group 2: including transaction group 2\n",
    "- Group 3: including transaction group 3\n",
    "- Group 4: including the remaining transaction groups of the bank"
   ]
  },
  {
   "cell_type": "code",
   "execution_count": 54,
   "id": "9b3a9925",
   "metadata": {},
   "outputs": [],
   "source": [
    "# Create a function to group of transactions\n",
    "def impute_trans_group_month(col):\n",
    "    distinct_trans_group_month = col[0]\n",
    "    if distinct_trans_group_month < 4:\n",
    "        return distinct_trans_group_month\n",
    "    else:\n",
    "        return 'Other'\n",
    "    \n",
    "# Group groups of transactions in the 'distinct_trans_group_month' using the impute_trans_group_month function\n",
    "data['distinct_trans_group_month'] = data[['distinct_trans_group_month']].apply(impute_trans_group_month, axis = 1)"
   ]
  },
  {
   "cell_type": "code",
   "execution_count": 55,
   "id": "8b0099ef",
   "metadata": {},
   "outputs": [
    {
     "data": {
      "text/plain": [
       "2.0      24747\n",
       "3.0      12473\n",
       "1.0      11569\n",
       "Other     6001\n",
       "Name: distinct_trans_group_month, dtype: int64"
      ]
     },
     "execution_count": 55,
     "metadata": {},
     "output_type": "execute_result"
    }
   ],
   "source": [
    "data['distinct_trans_group_month'].value_counts()"
   ]
  },
  {
   "cell_type": "markdown",
   "id": "a7ece930",
   "metadata": {},
   "source": [
    "<h5> Handle Outliers in 'distinct_payment_code_3month' column"
   ]
  },
  {
   "cell_type": "code",
   "execution_count": 56,
   "id": "afb2c3dc",
   "metadata": {
    "scrolled": true
   },
   "outputs": [
    {
     "data": {
      "text/plain": [
       "<AxesSubplot:ylabel='distinct_payment_code_3month'>"
      ]
     },
     "execution_count": 56,
     "metadata": {},
     "output_type": "execute_result"
    },
    {
     "data": {
      "image/png": "[encoded data removed]",
      "text/plain": [
       "<Figure size 432x288 with 1 Axes>"
      ]
     },
     "metadata": {
      "needs_background": "light"
     },
     "output_type": "display_data"
    }
   ],
   "source": [
    "sns.boxplot(y = 'distinct_payment_code_3month',data=data)"
   ]
  },
  {
   "cell_type": "markdown",
   "id": "c3146188",
   "metadata": {},
   "source": [
    "During the previous 3 months, there were 10 types of services used by customers. We have divided into 4 main service groups:\n",
    "- Group 1: includes service type 0\n",
    "- Group 2: includes service type 1\n",
    "- Group 3: includes service type 2\n",
    "- Group 4: including the rest of the bank's services"
   ]
  },
  {
   "cell_type": "code",
   "execution_count": 57,
   "id": "f5587529",
   "metadata": {},
   "outputs": [],
   "source": [
    "# Create a function to group services\n",
    "def impute_payment_code_3month(col):\n",
    "    distinct_payment_code_3month = col[0]\n",
    "    if distinct_payment_code_3month < 3:\n",
    "        return distinct_payment_code_3month\n",
    "    else:\n",
    "        return 'Other'\n",
    "    \n",
    "# Group the transaction types in the 'distinct_payment_code_3month' using the impute_payment_code_3month function\n",
    "data['distinct_payment_code_3month'] = data[['distinct_payment_code_3month']].apply(impute_payment_code_3month, \n",
    "                                                                                    axis = 1)"
   ]
  },
  {
   "cell_type": "code",
   "execution_count": 58,
   "id": "05298998",
   "metadata": {},
   "outputs": [
    {
     "data": {
      "text/plain": [
       "1        26206\n",
       "0        13934\n",
       "2         8290\n",
       "Other     6360\n",
       "Name: distinct_payment_code_3month, dtype: int64"
      ]
     },
     "execution_count": 58,
     "metadata": {},
     "output_type": "execute_result"
    }
   ],
   "source": [
    "data['distinct_payment_code_3month'].value_counts()"
   ]
  },
  {
   "cell_type": "markdown",
   "id": "324da3cb",
   "metadata": {},
   "source": [
    "<h5> Handle Outliers in 'distinct_trans_group_3month' column"
   ]
  },
  {
   "cell_type": "code",
   "execution_count": 59,
   "id": "0a77968f",
   "metadata": {
    "scrolled": true
   },
   "outputs": [
    {
     "data": {
      "text/plain": [
       "<AxesSubplot:ylabel='distinct_trans_group_3month'>"
      ]
     },
     "execution_count": 59,
     "metadata": {},
     "output_type": "execute_result"
    },
    {
     "data": {
      "image/png": "[encoded data removed]",
      "text/plain": [
       "<Figure size 432x288 with 1 Axes>"
      ]
     },
     "metadata": {
      "needs_background": "light"
     },
     "output_type": "display_data"
    }
   ],
   "source": [
    "sns.boxplot(y='distinct_trans_group_3month',data=data)"
   ]
  },
  {
   "cell_type": "markdown",
   "id": "3ef7d1a6",
   "metadata": {},
   "source": [
    "We have divided 7 groups of transactions used by customers in the previous 3 months into 5 main groups:\n",
    "- Group 1: including transaction group 1\n",
    "- Group 2: including transaction group 2\n",
    "- Group 3: including transaction group 3\n",
    "- Group 4: including transaction group 4\n",
    "- Group 5: including the remaining transaction groups of the bank"
   ]
  },
  {
   "cell_type": "code",
   "execution_count": 60,
   "id": "da1689e0",
   "metadata": {},
   "outputs": [],
   "source": [
    "# Create a function to group of bank transactions\n",
    "def impute_trans_group_3month(col):\n",
    "    distinct_trans_group_3month = col[0]\n",
    "    if distinct_trans_group_3month < 5:\n",
    "        return distinct_trans_group_3month\n",
    "    else:\n",
    "        return 'Other'\n",
    "    \n",
    "# Group of transactions in the 'distinct_trans_group_3month' using the impute_trans_group_3month function\n",
    "data['distinct_trans_group_3month'] = data[['distinct_trans_group_3month']].apply(impute_trans_group_3month, axis = 1)"
   ]
  },
  {
   "cell_type": "code",
   "execution_count": 61,
   "id": "dd5dadb0",
   "metadata": {},
   "outputs": [
    {
     "data": {
      "text/plain": [
       "3        23593\n",
       "2        13764\n",
       "4         9126\n",
       "Other     4447\n",
       "1         3860\n",
       "Name: distinct_trans_group_3month, dtype: int64"
      ]
     },
     "execution_count": 61,
     "metadata": {},
     "output_type": "execute_result"
    }
   ],
   "source": [
    "data['distinct_trans_group_3month'].value_counts()"
   ]
  },
  {
   "cell_type": "markdown",
   "id": "1fbc747b",
   "metadata": {},
   "source": [
    "<h2> Visualization"
   ]
  },
  {
   "cell_type": "markdown",
   "id": "9890a9e2",
   "metadata": {},
   "source": [
    "After processing the Outliers, we visualized the data of the features to make an assessment of the distribution between Churn Customer and Active Customer and found the insights of Churn Customer."
   ]
  },
  {
   "cell_type": "markdown",
   "id": "58cab46e",
   "metadata": {},
   "source": [
    "For each data type, we will visualize using different charts. Therefore, we created 2 different lists that include the names of the features:\n",
    "- List 1 - 'numerical_columns'\n",
    "- List 2 - 'categorical_columns'"
   ]
  },
  {
   "cell_type": "code",
   "execution_count": 62,
   "id": "daa9d1fe",
   "metadata": {},
   "outputs": [],
   "source": [
    "numerical_columns = []\n",
    "categorical_columns = []\n",
    "for column in data.columns:\n",
    "    if data[column].dtype == 'O':\n",
    "        categorical_columns.append(column)\n",
    "    else:\n",
    "        if column != 'Is_churn':\n",
    "            numerical_columns.append(column)"
   ]
  },
  {
   "cell_type": "markdown",
   "id": "5b17f7ef",
   "metadata": {},
   "source": [
    "We have divided the dataset into 2 classes:\n",
    "- data_churn: the dataset containing the observations as churn customer\n",
    "- data_active: the dataset containing the observations as active customer"
   ]
  },
  {
   "cell_type": "code",
   "execution_count": 63,
   "id": "924a5d6f",
   "metadata": {},
   "outputs": [],
   "source": [
    "data_churn = data[data['Is_churn'] == 1]\n",
    "data_active = data[data['Is_churn'] == 0]"
   ]
  },
  {
   "cell_type": "markdown",
   "id": "4997e598",
   "metadata": {},
   "source": [
    "We have created a function to visualize all the fields in the numerical_columns list using KDE plots."
   ]
  },
  {
   "cell_type": "code",
   "execution_count": 64,
   "id": "586d9aad",
   "metadata": {},
   "outputs": [
    {
     "data": {
      "image/png": "[encoded data removed]",
      "text/plain": [
       "<Figure size 432x288 with 1 Axes>"
      ]
     },
     "metadata": {
      "needs_background": "light"
     },
     "output_type": "display_data"
    },
    {
     "data": {
      "image/png": "[encoded data removed]",
      "text/plain": [
       "<Figure size 432x288 with 1 Axes>"
      ]
     },
     "metadata": {
      "needs_background": "light"
     },
     "output_type": "display_data"
    },
    {
     "data": {
      "image/png": "[encoded data removed]",
      "text/plain": [
       "<Figure size 432x288 with 1 Axes>"
      ]
     },
     "metadata": {
      "needs_background": "light"
     },
     "output_type": "display_data"
    },
    {
     "data": {
      "image/png": "[encoded data removed]",
      "text/plain": [
       "<Figure size 432x288 with 1 Axes>"
      ]
     },
     "metadata": {
      "needs_background": "light"
     },
     "output_type": "display_data"
    },
    {
     "data": {
      "image/png": "[encoded data removed]",
      "text/plain": [
       "<Figure size 432x288 with 1 Axes>"
      ]
     },
     "metadata": {
      "needs_background": "light"
     },
     "output_type": "display_data"
    },
    {
     "data": {
      "image/png": "[encoded data removed]",
      "text/plain": [
       "<Figure size 432x288 with 1 Axes>"
      ]
     },
     "metadata": {
      "needs_background": "light"
     },
     "output_type": "display_data"
    },
    {
     "data": {
      "image/png": "[encoded data removed]",
      "text/plain": [
       "<Figure size 432x288 with 1 Axes>"
      ]
     },
     "metadata": {
      "needs_background": "light"
     },
     "output_type": "display_data"
    },
    {
     "data": {
      "image/png": "[encoded data removed]",
      "text/plain": [
       "<Figure size 432x288 with 1 Axes>"
      ]
     },
     "metadata": {
      "needs_background": "light"
     },
     "output_type": "display_data"
    },
    {
     "data": {
      "image/png": "[encoded data removed]",
      "text/plain": [
       "<Figure size 432x288 with 1 Axes>"
      ]
     },
     "metadata": {
      "needs_background": "light"
     },
     "output_type": "display_data"
    },
    {
     "data": {
      "image/png": "[encoded data removed]",
      "text/plain": [
       "<Figure size 432x288 with 1 Axes>"
      ]
     },
     "metadata": {
      "needs_background": "light"
     },
     "output_type": "display_data"
    },
    {
     "data": {
      "image/png": "[encoded data removed]",
      "text/plain": [
       "<Figure size 432x288 with 1 Axes>"
      ]
     },
     "metadata": {
      "needs_background": "light"
     },
     "output_type": "display_data"
    },
    {
     "data": {
      "image/png": "[encoded data removed]",
      "text/plain": [
       "<Figure size 432x288 with 1 Axes>"
      ]
     },
     "metadata": {
      "needs_background": "light"
     },
     "output_type": "display_data"
    },
    {
     "data": {
      "image/png": "[encoded data removed]",
      "text/plain": [
       "<Figure size 432x288 with 1 Axes>"
      ]
     },
     "metadata": {
      "needs_background": "light"
     },
     "output_type": "display_data"
    },
    {
     "data": {
      "image/png": "[encoded data removed]",
      "text/plain": [
       "<Figure size 432x288 with 1 Axes>"
      ]
     },
     "metadata": {
      "needs_background": "light"
     },
     "output_type": "display_data"
    },
    {
     "data": {
      "image/png": "[encoded data removed]",
      "text/plain": [
       "<Figure size 432x288 with 1 Axes>"
      ]
     },
     "metadata": {
      "needs_background": "light"
     },
     "output_type": "display_data"
    },
    {
     "data": {
      "image/png": "[encoded data removed]",
      "text/plain": [
       "<Figure size 432x288 with 1 Axes>"
      ]
     },
     "metadata": {
      "needs_background": "light"
     },
     "output_type": "display_data"
    },
    {
     "data": {
      "image/png": "[encoded data removed]",
      "text/plain": [
       "<Figure size 432x288 with 1 Axes>"
      ]
     },
     "metadata": {
      "needs_background": "light"
     },
     "output_type": "display_data"
    },
    {
     "data": {
      "image/png": "[encoded data removed]",
      "text/plain": [
       "<Figure size 432x288 with 1 Axes>"
      ]
     },
     "metadata": {
      "needs_background": "light"
     },
     "output_type": "display_data"
    },
    {
     "data": {
      "image/png": "[encoded data removed]",
      "text/plain": [
       "<Figure size 432x288 with 1 Axes>"
      ]
     },
     "metadata": {
      "needs_background": "light"
     },
     "output_type": "display_data"
    }
   ],
   "source": [
    "def KDEPlots(df1,df2,label1,label2,column):\n",
    "    plt.figure()\n",
    "    sns.kdeplot(data=df1,label=label1, shade=True)\n",
    "    sns.kdeplot(data=df2,label=label2,shade=True)\n",
    "    plt.legend()\n",
    "    plt.title(\"Distribution of \" +column)\n",
    "    return\n",
    "\n",
    "for column in numerical_columns:\n",
    "    KDEPlots(data_churn[column],data_active[column],'Churn','Active',column)"
   ]
  },
  {
   "cell_type": "markdown",
   "id": "94999801",
   "metadata": {},
   "source": [
    "Based on the above distribution charts, we have come up with some insights about Churn Customer as follows:\n",
    "- Churn Customers are located mainly in the province 1\n",
    "- The lower a customer's total transaction amount in the 1-month, 3-month period before the customer leaves the bank, the more likely the customer is to become a Churn Customer.\n",
    "- The lower the value of the customer's largest transaction in the 3 observation periods (1 week, 1 month, 3 months ago), the more likely the customer is to become a Churn Customer.\n",
    "- The smaller the difference between the customer's largest transaction and the customer's smallest transaction in the three observation time periods, the more likely the customer is to become a Churn Customer.\n",
    "- The less service the customer used in the three observation periods, the more likely the customer is to become a Churn Customer.\n",
    "- The smaller the number of recipients of a customer's transactions, the more likely the customer is to become a Churn Customer."
   ]
  },
  {
   "cell_type": "markdown",
   "id": "0737dcdf",
   "metadata": {},
   "source": [
    "We continue to create a function to visualize categorical features using a BarPlots chart."
   ]
  },
  {
   "cell_type": "markdown",
   "id": "1fbcd67e",
   "metadata": {},
   "source": [
    "The below charts show that: with all observations are Churn Customer, how the percentage of each value in each categorical column is; and same for all observations is Active Customer."
   ]
  },
  {
   "cell_type": "code",
   "execution_count": 65,
   "id": "1cbc0e83",
   "metadata": {},
   "outputs": [
    {
     "data": {
      "image/png": "[encoded data removed]",
      "text/plain": [
       "<Figure size 432x288 with 1 Axes>"
      ]
     },
     "metadata": {
      "needs_background": "light"
     },
     "output_type": "display_data"
    },
    {
     "data": {
      "image/png": "[encoded data removed]",
      "text/plain": [
       "<Figure size 432x288 with 1 Axes>"
      ]
     },
     "metadata": {
      "needs_background": "light"
     },
     "output_type": "display_data"
    },
    {
     "data": {
      "image/png": "[encoded data removed]",
      "text/plain": [
       "<Figure size 432x288 with 1 Axes>"
      ]
     },
     "metadata": {
      "needs_background": "light"
     },
     "output_type": "display_data"
    },
    {
     "data": {
      "image/png": "[encoded data removed]",
      "text/plain": [
       "<Figure size 432x288 with 1 Axes>"
      ]
     },
     "metadata": {
      "needs_background": "light"
     },
     "output_type": "display_data"
    },
    {
     "data": {
      "image/png": "[encoded data removed]",
      "text/plain": [
       "<Figure size 432x288 with 1 Axes>"
      ]
     },
     "metadata": {
      "needs_background": "light"
     },
     "output_type": "display_data"
    },
    {
     "data": {
      "image/png": "[encoded data removed]",
      "text/plain": [
       "<Figure size 432x288 with 1 Axes>"
      ]
     },
     "metadata": {
      "needs_background": "light"
     },
     "output_type": "display_data"
    },
    {
     "data": {
      "image/png": "[encoded data removed]",
      "text/plain": [
       "<Figure size 432x288 with 1 Axes>"
      ]
     },
     "metadata": {
      "needs_background": "light"
     },
     "output_type": "display_data"
    },
    {
     "data": {
      "image/png": "[encoded data removed]",
      "text/plain": [
       "<Figure size 432x288 with 1 Axes>"
      ]
     },
     "metadata": {
      "needs_background": "light"
     },
     "output_type": "display_data"
    },
    {
     "data": {
      "image/png": "[encoded data removed]",
      "text/plain": [
       "<Figure size 432x288 with 1 Axes>"
      ]
     },
     "metadata": {
      "needs_background": "light"
     },
     "output_type": "display_data"
    }
   ],
   "source": [
    "def barplot(column_name):\n",
    "    # Create a dataframe 'churn' containing values of each categorical column and percentage of each value , whose observations is just Churn customers\n",
    "    column_churn = data_churn[column_name].unique().tolist()\n",
    "    percent_churn = []\n",
    "    Is_churn_1 = ['Churn']*len(column_churn)\n",
    "    for i in column_churn:\n",
    "        a = data_churn[data_churn[column_name]==i][column_name].count()/data_churn[column_name].count()\n",
    "        percent_churn.append(round(a,2))\n",
    "    churn = pd.DataFrame(list(zip(Is_churn_1, column_churn, percent_churn)), columns=['Is_churn','Column','Percent'])\n",
    "    \n",
    "    # Create a dataframe 'active' containing values of each categorical column and percentage of each value, whose observations is just Active customers\n",
    "    column_active = data_active[column_name].unique().tolist()\n",
    "    percent_active = []\n",
    "    Is_churn_0 = ['Active']*len(column_active)\n",
    "    for j in column_active:\n",
    "        b = data_active[data_active[column_name]==j][column_name].count()/data_active[column_name].count()\n",
    "        percent_active.append(round(b,2))\n",
    "    active = pd.DataFrame(list(zip(Is_churn_0, column_active, percent_active)), columns=['Is_churn','Column','Percent'])\n",
    "    \n",
    "    # Create a dataframe 'data2' by concatting 'churn' and 'active' dataframe\n",
    "    data2 = pd.concat([churn, active],axis=0)\n",
    "    \n",
    "    # Visualize data2 by barplot\n",
    "    sns.barplot(x='Column', y='Percent', hue='Is_churn', data=data2)\n",
    "    plt.title(\"Percentage of \" + column_name)\n",
    "    plt.xlabel(column_name)\n",
    "    plt.legend()\n",
    "    plt.show()\n",
    "    return\n",
    "\n",
    "for column in categorical_columns:\n",
    "    barplot(column)"
   ]
  },
  {
   "cell_type": "markdown",
   "id": "27f4016e",
   "metadata": {},
   "source": [
    "Based on the above distribution charts, we have made some comments about Churn Customer as follows:\n",
    "- With the customer group being Churn Customer, Male customer are the majority with more than 70% of Churn Customers.\n",
    "- While Active Customers who are single or married are evenly distributed (nearly 50% for each ones), Churn Customer who are single counts for the majority (with approximately 60% of all Churn Customers).\n",
    "- Nearly 70% of Churn Customers are between the ages of 18 and 34.\n",
    "- Churn Customers tend to use two payment codes 0 and 1, especially payment code 0 in the period of 1 week, 1 month, 3 months before leaving the bank.\n",
    "- Churn Customers tend to use transaction group 1 in the previous week; or use transaction groups 1 or 2 in the previous 1 month; or use transaction groups 1, 2, 3 within 3 months before leaving the bank."
   ]
  },
  {
   "cell_type": "markdown",
   "id": "f43a2357",
   "metadata": {},
   "source": [
    "<h2> Normalization"
   ]
  },
  {
   "cell_type": "code",
   "execution_count": 66,
   "id": "497b6db5",
   "metadata": {},
   "outputs": [
    {
     "data": {
      "text/html": [
       "<div>\n",
       "<style scoped>\n",
       "    .dataframe tbody tr th:only-of-type {\n",
       "        vertical-align: middle;\n",
       "    }\n",
       "\n",
       "    .dataframe tbody tr th {\n",
       "        vertical-align: top;\n",
       "    }\n",
       "\n",
       "    .dataframe thead th {\n",
       "        text-align: right;\n",
       "    }\n",
       "</style>\n",
       "<table border=\"1\" class=\"dataframe\">\n",
       "  <thead>\n",
       "    <tr style=\"text-align: right;\">\n",
       "      <th></th>\n",
       "      <th>resid_province</th>\n",
       "      <th>amount_week</th>\n",
       "      <th>max_amount_week</th>\n",
       "      <th>min_amount_week</th>\n",
       "      <th>count_payment_code_week</th>\n",
       "      <th>distinct_ref_no_week</th>\n",
       "      <th>amount_month</th>\n",
       "      <th>max_amount_month</th>\n",
       "      <th>min_amount_month</th>\n",
       "      <th>count_payment_code_month</th>\n",
       "      <th>distinct_ref_no_month</th>\n",
       "      <th>amount_3month</th>\n",
       "      <th>max_amount_3month</th>\n",
       "      <th>min_amount_3month</th>\n",
       "      <th>count_payment_code_3month</th>\n",
       "      <th>distinct_ref_no_3month</th>\n",
       "      <th>Is_churn</th>\n",
       "      <th>diff_amount_week</th>\n",
       "      <th>diff_amount_month</th>\n",
       "      <th>diff_amount_3month</th>\n",
       "    </tr>\n",
       "  </thead>\n",
       "  <tbody>\n",
       "    <tr>\n",
       "      <th>count</th>\n",
       "      <td>54790.000000</td>\n",
       "      <td>54790.00000</td>\n",
       "      <td>5.479000e+04</td>\n",
       "      <td>54790.000000</td>\n",
       "      <td>54790.000000</td>\n",
       "      <td>54790.000000</td>\n",
       "      <td>5.479000e+04</td>\n",
       "      <td>5.479000e+04</td>\n",
       "      <td>54790.000000</td>\n",
       "      <td>54790.000000</td>\n",
       "      <td>54790.000000</td>\n",
       "      <td>5.479000e+04</td>\n",
       "      <td>5.479000e+04</td>\n",
       "      <td>5.479000e+04</td>\n",
       "      <td>54790.000000</td>\n",
       "      <td>54790.000000</td>\n",
       "      <td>54790.000000</td>\n",
       "      <td>54790.000000</td>\n",
       "      <td>54790.000000</td>\n",
       "      <td>54790.000000</td>\n",
       "    </tr>\n",
       "    <tr>\n",
       "      <th>mean</th>\n",
       "      <td>32.401643</td>\n",
       "      <td>0.00059</td>\n",
       "      <td>4.760065e-04</td>\n",
       "      <td>0.000122</td>\n",
       "      <td>0.472851</td>\n",
       "      <td>5.115094</td>\n",
       "      <td>5.914523e-04</td>\n",
       "      <td>1.228400e-03</td>\n",
       "      <td>0.000006</td>\n",
       "      <td>2.013068</td>\n",
       "      <td>21.111015</td>\n",
       "      <td>3.893395e-04</td>\n",
       "      <td>1.075430e-03</td>\n",
       "      <td>3.549816e-06</td>\n",
       "      <td>5.511453</td>\n",
       "      <td>54.553888</td>\n",
       "      <td>0.045556</td>\n",
       "      <td>0.000202</td>\n",
       "      <td>0.001177</td>\n",
       "      <td>0.001059</td>\n",
       "    </tr>\n",
       "    <tr>\n",
       "      <th>std</th>\n",
       "      <td>29.001154</td>\n",
       "      <td>0.00615</td>\n",
       "      <td>6.227605e-04</td>\n",
       "      <td>0.000153</td>\n",
       "      <td>0.764433</td>\n",
       "      <td>4.443873</td>\n",
       "      <td>7.547197e-04</td>\n",
       "      <td>1.525788e-03</td>\n",
       "      <td>0.000007</td>\n",
       "      <td>2.264628</td>\n",
       "      <td>18.700828</td>\n",
       "      <td>4.957798e-04</td>\n",
       "      <td>1.337041e-03</td>\n",
       "      <td>3.769087e-06</td>\n",
       "      <td>6.042546</td>\n",
       "      <td>48.718725</td>\n",
       "      <td>0.208522</td>\n",
       "      <td>0.000543</td>\n",
       "      <td>0.001489</td>\n",
       "      <td>0.001347</td>\n",
       "    </tr>\n",
       "    <tr>\n",
       "      <th>min</th>\n",
       "      <td>0.000000</td>\n",
       "      <td>0.00000</td>\n",
       "      <td>2.040000e-09</td>\n",
       "      <td>0.000000</td>\n",
       "      <td>0.000000</td>\n",
       "      <td>0.000000</td>\n",
       "      <td>2.800000e-10</td>\n",
       "      <td>2.040000e-09</td>\n",
       "      <td>0.000000</td>\n",
       "      <td>0.000000</td>\n",
       "      <td>0.000000</td>\n",
       "      <td>6.570000e-11</td>\n",
       "      <td>1.000000e-09</td>\n",
       "      <td>0.000000e+00</td>\n",
       "      <td>0.000000</td>\n",
       "      <td>0.000000</td>\n",
       "      <td>0.000000</td>\n",
       "      <td>-0.000783</td>\n",
       "      <td>-0.002339</td>\n",
       "      <td>-0.002137</td>\n",
       "    </tr>\n",
       "    <tr>\n",
       "      <th>25%</th>\n",
       "      <td>1.000000</td>\n",
       "      <td>0.00000</td>\n",
       "      <td>3.060000e-05</td>\n",
       "      <td>0.000011</td>\n",
       "      <td>0.000000</td>\n",
       "      <td>2.000000</td>\n",
       "      <td>4.980000e-05</td>\n",
       "      <td>1.378060e-04</td>\n",
       "      <td>0.000001</td>\n",
       "      <td>0.000000</td>\n",
       "      <td>7.000000</td>\n",
       "      <td>3.360000e-05</td>\n",
       "      <td>1.160000e-04</td>\n",
       "      <td>6.090000e-07</td>\n",
       "      <td>0.000000</td>\n",
       "      <td>18.000000</td>\n",
       "      <td>0.000000</td>\n",
       "      <td>-0.000047</td>\n",
       "      <td>0.000120</td>\n",
       "      <td>0.000103</td>\n",
       "    </tr>\n",
       "    <tr>\n",
       "      <th>50%</th>\n",
       "      <td>31.000000</td>\n",
       "      <td>0.00000</td>\n",
       "      <td>1.551020e-04</td>\n",
       "      <td>0.000045</td>\n",
       "      <td>0.000000</td>\n",
       "      <td>3.000000</td>\n",
       "      <td>1.905340e-04</td>\n",
       "      <td>4.081630e-04</td>\n",
       "      <td>0.000003</td>\n",
       "      <td>1.000000</td>\n",
       "      <td>14.000000</td>\n",
       "      <td>1.272535e-04</td>\n",
       "      <td>4.000000e-04</td>\n",
       "      <td>1.770000e-06</td>\n",
       "      <td>4.000000</td>\n",
       "      <td>37.000000</td>\n",
       "      <td>0.000000</td>\n",
       "      <td>0.000027</td>\n",
       "      <td>0.000407</td>\n",
       "      <td>0.000394</td>\n",
       "    </tr>\n",
       "    <tr>\n",
       "      <th>75%</th>\n",
       "      <td>51.000000</td>\n",
       "      <td>0.00000</td>\n",
       "      <td>7.297960e-04</td>\n",
       "      <td>0.000182</td>\n",
       "      <td>1.000000</td>\n",
       "      <td>7.000000</td>\n",
       "      <td>8.831660e-04</td>\n",
       "      <td>1.836735e-03</td>\n",
       "      <td>0.000009</td>\n",
       "      <td>3.000000</td>\n",
       "      <td>30.000000</td>\n",
       "      <td>5.851687e-04</td>\n",
       "      <td>1.600000e-03</td>\n",
       "      <td>5.260000e-06</td>\n",
       "      <td>9.000000</td>\n",
       "      <td>77.000000</td>\n",
       "      <td>0.000000</td>\n",
       "      <td>0.000444</td>\n",
       "      <td>0.001760</td>\n",
       "      <td>0.001596</td>\n",
       "    </tr>\n",
       "    <tr>\n",
       "      <th>max</th>\n",
       "      <td>96.000000</td>\n",
       "      <td>1.00000</td>\n",
       "      <td>1.778590e-03</td>\n",
       "      <td>0.000437</td>\n",
       "      <td>2.500000</td>\n",
       "      <td>14.500000</td>\n",
       "      <td>2.133215e-03</td>\n",
       "      <td>4.385052e-03</td>\n",
       "      <td>0.000021</td>\n",
       "      <td>7.500000</td>\n",
       "      <td>64.500000</td>\n",
       "      <td>1.412331e-03</td>\n",
       "      <td>3.826000e-03</td>\n",
       "      <td>1.223650e-05</td>\n",
       "      <td>22.500000</td>\n",
       "      <td>165.500000</td>\n",
       "      <td>1.000000</td>\n",
       "      <td>0.001181</td>\n",
       "      <td>0.004219</td>\n",
       "      <td>0.003837</td>\n",
       "    </tr>\n",
       "  </tbody>\n",
       "</table>\n",
       "</div>"
      ],
      "text/plain": [
       "       resid_province  amount_week  max_amount_week  min_amount_week  \\\n",
       "count    54790.000000  54790.00000     5.479000e+04     54790.000000   \n",
       "mean        32.401643      0.00059     4.760065e-04         0.000122   \n",
       "std         29.001154      0.00615     6.227605e-04         0.000153   \n",
       "min          0.000000      0.00000     2.040000e-09         0.000000   \n",
       "25%          1.000000      0.00000     3.060000e-05         0.000011   \n",
       "50%         31.000000      0.00000     1.551020e-04         0.000045   \n",
       "75%         51.000000      0.00000     7.297960e-04         0.000182   \n",
       "max         96.000000      1.00000     1.778590e-03         0.000437   \n",
       "\n",
       "       count_payment_code_week  distinct_ref_no_week  amount_month  \\\n",
       "count             54790.000000          54790.000000  5.479000e+04   \n",
       "mean                  0.472851              5.115094  5.914523e-04   \n",
       "std                   0.764433              4.443873  7.547197e-04   \n",
       "min                   0.000000              0.000000  2.800000e-10   \n",
       "25%                   0.000000              2.000000  4.980000e-05   \n",
       "50%                   0.000000              3.000000  1.905340e-04   \n",
       "75%                   1.000000              7.000000  8.831660e-04   \n",
       "max                   2.500000             14.500000  2.133215e-03   \n",
       "\n",
       "       max_amount_month  min_amount_month  count_payment_code_month  \\\n",
       "count      5.479000e+04      54790.000000              54790.000000   \n",
       "mean       1.228400e-03          0.000006                  2.013068   \n",
       "std        1.525788e-03          0.000007                  2.264628   \n",
       "min        2.040000e-09          0.000000                  0.000000   \n",
       "25%        1.378060e-04          0.000001                  0.000000   \n",
       "50%        4.081630e-04          0.000003                  1.000000   \n",
       "75%        1.836735e-03          0.000009                  3.000000   \n",
       "max        4.385052e-03          0.000021                  7.500000   \n",
       "\n",
       "       distinct_ref_no_month  amount_3month  max_amount_3month  \\\n",
       "count           54790.000000   5.479000e+04       5.479000e+04   \n",
       "mean               21.111015   3.893395e-04       1.075430e-03   \n",
       "std                18.700828   4.957798e-04       1.337041e-03   \n",
       "min                 0.000000   6.570000e-11       1.000000e-09   \n",
       "25%                 7.000000   3.360000e-05       1.160000e-04   \n",
       "50%                14.000000   1.272535e-04       4.000000e-04   \n",
       "75%                30.000000   5.851687e-04       1.600000e-03   \n",
       "max                64.500000   1.412331e-03       3.826000e-03   \n",
       "\n",
       "       min_amount_3month  count_payment_code_3month  distinct_ref_no_3month  \\\n",
       "count       5.479000e+04               54790.000000            54790.000000   \n",
       "mean        3.549816e-06                   5.511453               54.553888   \n",
       "std         3.769087e-06                   6.042546               48.718725   \n",
       "min         0.000000e+00                   0.000000                0.000000   \n",
       "25%         6.090000e-07                   0.000000               18.000000   \n",
       "50%         1.770000e-06                   4.000000               37.000000   \n",
       "75%         5.260000e-06                   9.000000               77.000000   \n",
       "max         1.223650e-05                  22.500000              165.500000   \n",
       "\n",
       "           Is_churn  diff_amount_week  diff_amount_month  diff_amount_3month  \n",
       "count  54790.000000      54790.000000       54790.000000        54790.000000  \n",
       "mean       0.045556          0.000202           0.001177            0.001059  \n",
       "std        0.208522          0.000543           0.001489            0.001347  \n",
       "min        0.000000         -0.000783          -0.002339           -0.002137  \n",
       "25%        0.000000         -0.000047           0.000120            0.000103  \n",
       "50%        0.000000          0.000027           0.000407            0.000394  \n",
       "75%        0.000000          0.000444           0.001760            0.001596  \n",
       "max        1.000000          0.001181           0.004219            0.003837  "
      ]
     },
     "execution_count": 66,
     "metadata": {},
     "output_type": "execute_result"
    }
   ],
   "source": [
    "data.describe()"
   ]
  },
  {
   "cell_type": "markdown",
   "id": "32368dc1",
   "metadata": {},
   "source": [
    "Looking at the table above, we see that the values of the numerical features are not balanced. Therefore, we continue to normalize this dataset to improve the quality of the construction model. \n",
    "- For categorical data features, we will normalize using the Dummy variable method.\n",
    "- For numerical fields, we will apply Min-Max Normalization."
   ]
  },
  {
   "cell_type": "markdown",
   "id": "ceacf380",
   "metadata": {},
   "source": [
    "<h3> Dummy Variable"
   ]
  },
  {
   "cell_type": "code",
   "execution_count": 67,
   "id": "788de361",
   "metadata": {},
   "outputs": [],
   "source": [
    "prefix = ['sex', 'marital_status', 'age', 'payment_code_week', 'trans_group_week', 'payment_code_month', \n",
    "         'trans_group_month', 'payment_code_3month', 'trans_group_3month']\n",
    "\n",
    "data = pd.get_dummies(data = data, prefix = prefix, prefix_sep = '_', \n",
    "                      columns = categorical_columns, drop_first = False, dtype = 'int')"
   ]
  },
  {
   "cell_type": "markdown",
   "id": "243360ef",
   "metadata": {},
   "source": [
    "<h3> Min-Max Normalization"
   ]
  },
  {
   "cell_type": "code",
   "execution_count": 68,
   "id": "f5688207",
   "metadata": {},
   "outputs": [
    {
     "name": "stdout",
     "output_type": "stream",
     "text": [
      "Setup MinMaxScaler Complete\n"
     ]
    }
   ],
   "source": [
    "from sklearn.preprocessing import MinMaxScaler\n",
    "print('Setup MinMaxScaler Complete')"
   ]
  },
  {
   "cell_type": "code",
   "execution_count": 69,
   "id": "0f00bcb6",
   "metadata": {},
   "outputs": [
    {
     "data": {
      "text/html": [
       "<div>\n",
       "<style scoped>\n",
       "    .dataframe tbody tr th:only-of-type {\n",
       "        vertical-align: middle;\n",
       "    }\n",
       "\n",
       "    .dataframe tbody tr th {\n",
       "        vertical-align: top;\n",
       "    }\n",
       "\n",
       "    .dataframe thead th {\n",
       "        text-align: right;\n",
       "    }\n",
       "</style>\n",
       "<table border=\"1\" class=\"dataframe\">\n",
       "  <thead>\n",
       "    <tr style=\"text-align: right;\">\n",
       "      <th></th>\n",
       "      <th>Is_churn</th>\n",
       "      <th>sex_FEMALE</th>\n",
       "      <th>sex_MALE</th>\n",
       "      <th>marital_status_Divorced</th>\n",
       "      <th>marital_status_Married</th>\n",
       "      <th>marital_status_Other</th>\n",
       "      <th>marital_status_Partner</th>\n",
       "      <th>marital_status_Seperated</th>\n",
       "      <th>marital_status_Single</th>\n",
       "      <th>marital_status_Widow</th>\n",
       "      <th>...</th>\n",
       "      <th>count_payment_code_month</th>\n",
       "      <th>distinct_ref_no_month</th>\n",
       "      <th>amount_3month</th>\n",
       "      <th>max_amount_3month</th>\n",
       "      <th>min_amount_3month</th>\n",
       "      <th>count_payment_code_3month</th>\n",
       "      <th>distinct_ref_no_3month</th>\n",
       "      <th>diff_amount_week</th>\n",
       "      <th>diff_amount_month</th>\n",
       "      <th>diff_amount_3month</th>\n",
       "    </tr>\n",
       "  </thead>\n",
       "  <tbody>\n",
       "    <tr>\n",
       "      <th>count</th>\n",
       "      <td>54790.000000</td>\n",
       "      <td>54790.000000</td>\n",
       "      <td>54790.000000</td>\n",
       "      <td>54790.000000</td>\n",
       "      <td>54790.000000</td>\n",
       "      <td>54790.000000</td>\n",
       "      <td>54790.000000</td>\n",
       "      <td>54790.000000</td>\n",
       "      <td>54790.000000</td>\n",
       "      <td>54790.000000</td>\n",
       "      <td>...</td>\n",
       "      <td>54790.000000</td>\n",
       "      <td>54790.000000</td>\n",
       "      <td>54790.000000</td>\n",
       "      <td>54790.000000</td>\n",
       "      <td>54790.000000</td>\n",
       "      <td>54790.000000</td>\n",
       "      <td>54790.000000</td>\n",
       "      <td>54790.000000</td>\n",
       "      <td>54790.000000</td>\n",
       "      <td>54790.000000</td>\n",
       "    </tr>\n",
       "    <tr>\n",
       "      <th>mean</th>\n",
       "      <td>0.045556</td>\n",
       "      <td>0.353787</td>\n",
       "      <td>0.646213</td>\n",
       "      <td>0.000329</td>\n",
       "      <td>0.490892</td>\n",
       "      <td>0.003979</td>\n",
       "      <td>0.000456</td>\n",
       "      <td>0.000055</td>\n",
       "      <td>0.504253</td>\n",
       "      <td>0.000037</td>\n",
       "      <td>...</td>\n",
       "      <td>0.268409</td>\n",
       "      <td>0.327303</td>\n",
       "      <td>0.275671</td>\n",
       "      <td>0.281084</td>\n",
       "      <td>0.290101</td>\n",
       "      <td>0.244953</td>\n",
       "      <td>0.329631</td>\n",
       "      <td>0.501547</td>\n",
       "      <td>0.536124</td>\n",
       "      <td>0.534984</td>\n",
       "    </tr>\n",
       "    <tr>\n",
       "      <th>std</th>\n",
       "      <td>0.208522</td>\n",
       "      <td>0.478148</td>\n",
       "      <td>0.478148</td>\n",
       "      <td>0.018123</td>\n",
       "      <td>0.499922</td>\n",
       "      <td>0.062953</td>\n",
       "      <td>0.021356</td>\n",
       "      <td>0.007399</td>\n",
       "      <td>0.499986</td>\n",
       "      <td>0.006042</td>\n",
       "      <td>...</td>\n",
       "      <td>0.301950</td>\n",
       "      <td>0.289935</td>\n",
       "      <td>0.351036</td>\n",
       "      <td>0.349462</td>\n",
       "      <td>0.308020</td>\n",
       "      <td>0.268558</td>\n",
       "      <td>0.294373</td>\n",
       "      <td>0.276525</td>\n",
       "      <td>0.227027</td>\n",
       "      <td>0.225529</td>\n",
       "    </tr>\n",
       "    <tr>\n",
       "      <th>min</th>\n",
       "      <td>0.000000</td>\n",
       "      <td>0.000000</td>\n",
       "      <td>0.000000</td>\n",
       "      <td>0.000000</td>\n",
       "      <td>0.000000</td>\n",
       "      <td>0.000000</td>\n",
       "      <td>0.000000</td>\n",
       "      <td>0.000000</td>\n",
       "      <td>0.000000</td>\n",
       "      <td>0.000000</td>\n",
       "      <td>...</td>\n",
       "      <td>0.000000</td>\n",
       "      <td>0.000000</td>\n",
       "      <td>0.000000</td>\n",
       "      <td>0.000000</td>\n",
       "      <td>0.000000</td>\n",
       "      <td>0.000000</td>\n",
       "      <td>0.000000</td>\n",
       "      <td>0.000000</td>\n",
       "      <td>0.000000</td>\n",
       "      <td>0.000000</td>\n",
       "    </tr>\n",
       "    <tr>\n",
       "      <th>25%</th>\n",
       "      <td>0.000000</td>\n",
       "      <td>0.000000</td>\n",
       "      <td>0.000000</td>\n",
       "      <td>0.000000</td>\n",
       "      <td>0.000000</td>\n",
       "      <td>0.000000</td>\n",
       "      <td>0.000000</td>\n",
       "      <td>0.000000</td>\n",
       "      <td>0.000000</td>\n",
       "      <td>0.000000</td>\n",
       "      <td>...</td>\n",
       "      <td>0.000000</td>\n",
       "      <td>0.108527</td>\n",
       "      <td>0.023790</td>\n",
       "      <td>0.030319</td>\n",
       "      <td>0.049769</td>\n",
       "      <td>0.000000</td>\n",
       "      <td>0.108761</td>\n",
       "      <td>0.375000</td>\n",
       "      <td>0.375000</td>\n",
       "      <td>0.374999</td>\n",
       "    </tr>\n",
       "    <tr>\n",
       "      <th>50%</th>\n",
       "      <td>0.000000</td>\n",
       "      <td>0.000000</td>\n",
       "      <td>1.000000</td>\n",
       "      <td>0.000000</td>\n",
       "      <td>0.000000</td>\n",
       "      <td>0.000000</td>\n",
       "      <td>0.000000</td>\n",
       "      <td>0.000000</td>\n",
       "      <td>1.000000</td>\n",
       "      <td>0.000000</td>\n",
       "      <td>...</td>\n",
       "      <td>0.133333</td>\n",
       "      <td>0.217054</td>\n",
       "      <td>0.090102</td>\n",
       "      <td>0.104548</td>\n",
       "      <td>0.144649</td>\n",
       "      <td>0.177778</td>\n",
       "      <td>0.223565</td>\n",
       "      <td>0.412475</td>\n",
       "      <td>0.418705</td>\n",
       "      <td>0.423719</td>\n",
       "    </tr>\n",
       "    <tr>\n",
       "      <th>75%</th>\n",
       "      <td>0.000000</td>\n",
       "      <td>1.000000</td>\n",
       "      <td>1.000000</td>\n",
       "      <td>0.000000</td>\n",
       "      <td>1.000000</td>\n",
       "      <td>0.000000</td>\n",
       "      <td>0.000000</td>\n",
       "      <td>0.000000</td>\n",
       "      <td>1.000000</td>\n",
       "      <td>0.000000</td>\n",
       "      <td>...</td>\n",
       "      <td>0.400000</td>\n",
       "      <td>0.465116</td>\n",
       "      <td>0.414328</td>\n",
       "      <td>0.418191</td>\n",
       "      <td>0.429861</td>\n",
       "      <td>0.400000</td>\n",
       "      <td>0.465257</td>\n",
       "      <td>0.625000</td>\n",
       "      <td>0.625012</td>\n",
       "      <td>0.625000</td>\n",
       "    </tr>\n",
       "    <tr>\n",
       "      <th>max</th>\n",
       "      <td>1.000000</td>\n",
       "      <td>1.000000</td>\n",
       "      <td>1.000000</td>\n",
       "      <td>1.000000</td>\n",
       "      <td>1.000000</td>\n",
       "      <td>1.000000</td>\n",
       "      <td>1.000000</td>\n",
       "      <td>1.000000</td>\n",
       "      <td>1.000000</td>\n",
       "      <td>1.000000</td>\n",
       "      <td>...</td>\n",
       "      <td>1.000000</td>\n",
       "      <td>1.000000</td>\n",
       "      <td>1.000000</td>\n",
       "      <td>1.000000</td>\n",
       "      <td>1.000000</td>\n",
       "      <td>1.000000</td>\n",
       "      <td>1.000000</td>\n",
       "      <td>1.000000</td>\n",
       "      <td>1.000000</td>\n",
       "      <td>1.000000</td>\n",
       "    </tr>\n",
       "  </tbody>\n",
       "</table>\n",
       "<p>8 rows × 55 columns</p>\n",
       "</div>"
      ],
      "text/plain": [
       "           Is_churn    sex_FEMALE      sex_MALE  marital_status_Divorced  \\\n",
       "count  54790.000000  54790.000000  54790.000000             54790.000000   \n",
       "mean       0.045556      0.353787      0.646213                 0.000329   \n",
       "std        0.208522      0.478148      0.478148                 0.018123   \n",
       "min        0.000000      0.000000      0.000000                 0.000000   \n",
       "25%        0.000000      0.000000      0.000000                 0.000000   \n",
       "50%        0.000000      0.000000      1.000000                 0.000000   \n",
       "75%        0.000000      1.000000      1.000000                 0.000000   \n",
       "max        1.000000      1.000000      1.000000                 1.000000   \n",
       "\n",
       "       marital_status_Married  marital_status_Other  marital_status_Partner  \\\n",
       "count            54790.000000          54790.000000            54790.000000   \n",
       "mean                 0.490892              0.003979                0.000456   \n",
       "std                  0.499922              0.062953                0.021356   \n",
       "min                  0.000000              0.000000                0.000000   \n",
       "25%                  0.000000              0.000000                0.000000   \n",
       "50%                  0.000000              0.000000                0.000000   \n",
       "75%                  1.000000              0.000000                0.000000   \n",
       "max                  1.000000              1.000000                1.000000   \n",
       "\n",
       "       marital_status_Seperated  marital_status_Single  marital_status_Widow  \\\n",
       "count              54790.000000           54790.000000          54790.000000   \n",
       "mean                   0.000055               0.504253              0.000037   \n",
       "std                    0.007399               0.499986              0.006042   \n",
       "min                    0.000000               0.000000              0.000000   \n",
       "25%                    0.000000               0.000000              0.000000   \n",
       "50%                    0.000000               1.000000              0.000000   \n",
       "75%                    0.000000               1.000000              0.000000   \n",
       "max                    1.000000               1.000000              1.000000   \n",
       "\n",
       "       ...  count_payment_code_month  distinct_ref_no_month  amount_3month  \\\n",
       "count  ...              54790.000000           54790.000000   54790.000000   \n",
       "mean   ...                  0.268409               0.327303       0.275671   \n",
       "std    ...                  0.301950               0.289935       0.351036   \n",
       "min    ...                  0.000000               0.000000       0.000000   \n",
       "25%    ...                  0.000000               0.108527       0.023790   \n",
       "50%    ...                  0.133333               0.217054       0.090102   \n",
       "75%    ...                  0.400000               0.465116       0.414328   \n",
       "max    ...                  1.000000               1.000000       1.000000   \n",
       "\n",
       "       max_amount_3month  min_amount_3month  count_payment_code_3month  \\\n",
       "count       54790.000000       54790.000000               54790.000000   \n",
       "mean            0.281084           0.290101                   0.244953   \n",
       "std             0.349462           0.308020                   0.268558   \n",
       "min             0.000000           0.000000                   0.000000   \n",
       "25%             0.030319           0.049769                   0.000000   \n",
       "50%             0.104548           0.144649                   0.177778   \n",
       "75%             0.418191           0.429861                   0.400000   \n",
       "max             1.000000           1.000000                   1.000000   \n",
       "\n",
       "       distinct_ref_no_3month  diff_amount_week  diff_amount_month  \\\n",
       "count            54790.000000      54790.000000       54790.000000   \n",
       "mean                 0.329631          0.501547           0.536124   \n",
       "std                  0.294373          0.276525           0.227027   \n",
       "min                  0.000000          0.000000           0.000000   \n",
       "25%                  0.108761          0.375000           0.375000   \n",
       "50%                  0.223565          0.412475           0.418705   \n",
       "75%                  0.465257          0.625000           0.625012   \n",
       "max                  1.000000          1.000000           1.000000   \n",
       "\n",
       "       diff_amount_3month  \n",
       "count        54790.000000  \n",
       "mean             0.534984  \n",
       "std              0.225529  \n",
       "min              0.000000  \n",
       "25%              0.374999  \n",
       "50%              0.423719  \n",
       "75%              0.625000  \n",
       "max              1.000000  \n",
       "\n",
       "[8 rows x 55 columns]"
      ]
     },
     "execution_count": 69,
     "metadata": {},
     "output_type": "execute_result"
    }
   ],
   "source": [
    "# Create 1 MinMaxScaler object\n",
    "norm = MinMaxScaler()\n",
    "\n",
    "# Fit the model and transform the data\n",
    "data_scaler = norm.fit_transform(data[numerical_columns])\n",
    "\n",
    "# Convert data_scaler from an array to a dataframe\n",
    "data_scaler = pd.DataFrame(data_scaler, columns = numerical_columns)\n",
    "\n",
    "# Drop numerical columns without being normalized from data and reset the index\n",
    "data = data.drop(numerical_columns, axis = 1).reset_index(drop=True)\n",
    "\n",
    "# Concat data_scaler and data to have a dataframe with all normalized columns\n",
    "data = pd.concat([data, data_scaler], axis = 1)\n",
    "\n",
    "# Check the dataset\n",
    "data.describe()"
   ]
  },
  {
   "cell_type": "markdown",
   "id": "f54b2186",
   "metadata": {},
   "source": [
    "<h2> Predictor Selection"
   ]
  },
  {
   "cell_type": "code",
   "execution_count": 70,
   "id": "bcf29300",
   "metadata": {},
   "outputs": [
    {
     "name": "stdout",
     "output_type": "stream",
     "text": [
      "Setup Complete.\n"
     ]
    }
   ],
   "source": [
    "from scipy import stats\n",
    "print('Setup Complete.')"
   ]
  },
  {
   "cell_type": "markdown",
   "id": "cd370246",
   "metadata": {},
   "source": [
    "We continue to select predictors variables to build predictive models. We will analyze the correlation of the features with the target variable 'Is_churn' and selected the features with the highest correlation index to build the model."
   ]
  },
  {
   "cell_type": "code",
   "execution_count": 71,
   "id": "e951c28e",
   "metadata": {},
   "outputs": [
    {
     "data": {
      "text/plain": [
       "distinct_ref_no_3month      -0.111258\n",
       "distinct_ref_no_month       -0.110730\n",
       "diff_amount_3month          -0.101335\n",
       "diff_amount_week            -0.099806\n",
       "diff_amount_month           -0.099315\n",
       "amount_3month               -0.093126\n",
       "distinct_ref_no_week        -0.092334\n",
       "amount_month                -0.091895\n",
       "max_amount_3month           -0.091602\n",
       "max_amount_month            -0.086161\n",
       "max_amount_week             -0.079971\n",
       "count_payment_code_3month   -0.079773\n",
       "payment_code_month_Other    -0.074318\n",
       "count_payment_code_month    -0.067064\n",
       "payment_code_3month_Other   -0.064962\n",
       "trans_group_month_Other     -0.058403\n",
       "trans_group_3month_Other    -0.057240\n",
       "trans_group_3month_4        -0.052797\n",
       "payment_code_3month_2       -0.051211\n",
       "trans_group_3month_3        -0.050873\n",
       "marital_status_Married      -0.042418\n",
       "trans_group_month_3.0       -0.040333\n",
       "trans_group_week_Other      -0.039097\n",
       "sex_FEMALE                  -0.030398\n",
       "payment_code_week_Other     -0.020331\n",
       "age_35-55                   -0.018754\n",
       "amount_week                 -0.011581\n",
       "trans_group_week_2.0        -0.009635\n",
       "payment_code_month_1.0      -0.008769\n",
       "trans_group_month_2.0       -0.007452\n",
       "count_payment_code_week     -0.006038\n",
       "resid_province              -0.004022\n",
       "marital_status_Divorced     -0.003961\n",
       "payment_code_week_0.0       -0.002461\n",
       "marital_status_Seperated    -0.001617\n",
       "marital_status_Widow        -0.001320\n",
       "marital_status_Other         0.000096\n",
       "payment_code_3month_1        0.005111\n",
       "marital_status_Partner       0.007628\n",
       "age_18-34                    0.008374\n",
       "payment_code_week_1.0        0.009190\n",
       "age_Over 55                  0.012449\n",
       "min_amount_week              0.025271\n",
       "sex_MALE                     0.030398\n",
       "trans_group_week_1.0         0.031770\n",
       "age_6-17                     0.037065\n",
       "marital_status_Single        0.042258\n",
       "min_amount_month             0.061263\n",
       "payment_code_month_0.0       0.068698\n",
       "trans_group_3month_2         0.072243\n",
       "min_amount_3month            0.074550\n",
       "payment_code_3month_0        0.084062\n",
       "trans_group_month_1.0        0.095215\n",
       "trans_group_3month_1         0.113951\n",
       "Is_churn                     1.000000\n",
       "Name: Is_churn, dtype: float64"
      ]
     },
     "execution_count": 71,
     "metadata": {},
     "output_type": "execute_result"
    }
   ],
   "source": [
    "corr = data.corr()\n",
    "corr['Is_churn'].sort_values()"
   ]
  },
  {
   "cell_type": "markdown",
   "id": "bb953fa5",
   "metadata": {},
   "source": [
    "Based on the above data, we initially selected 11 variables with corr > 0.09 or corr < -0.09 as predictors. We retested the significance of these correlations using the P-value index."
   ]
  },
  {
   "cell_type": "code",
   "execution_count": 72,
   "id": "5c80c54a",
   "metadata": {},
   "outputs": [
    {
     "data": {
      "text/plain": [
       "[1.9931790157162314e-150,\n",
       " 5.181560041967457e-149,\n",
       " 9.590803113555227e-158,\n",
       " 5.325451515574425e-125,\n",
       " 2.6787426765183777e-121,\n",
       " 4.044818517905089e-120,\n",
       " 1.595233240238524e-110,\n",
       " 8.609948157806502e-106,\n",
       " 5.0426803002158404e-104,\n",
       " 4.73756489664431e-103,\n",
       " 2.092811980434715e-102]"
      ]
     },
     "execution_count": 72,
     "metadata": {},
     "output_type": "execute_result"
    }
   ],
   "source": [
    "predictors = ['distinct_ref_no_3month', 'distinct_ref_no_month', 'trans_group_3month_1', 'diff_amount_3month',\n",
    "              'diff_amount_week', 'diff_amount_month', 'trans_group_month_1.0', 'amount_3month', \n",
    "              'distinct_ref_no_week','amount_month', 'max_amount_3month']\n",
    "P_values = []\n",
    "for i in predictors:\n",
    "    pearson_coef, p_value = stats.pearsonr(data[i], data['Is_churn'])\n",
    "    P_values.append(p_value)\n",
    "P_values"
   ]
  },
  {
   "cell_type": "markdown",
   "id": "f79a3f8c",
   "metadata": {},
   "source": [
    "We see that the P-values of these variables are all asymptotes to 0. Therefore, we conclude that the correlation between these 9 fields and the target field 'Is_churn' is significant. Those are the following features:\n",
    "- <h5> distinct_ref_no_3month\n",
    "- <h5> distinct_ref_no_month\n",
    "- <h5> trans_group_3month_1\n",
    "- <h5> diff_amount_3month\n",
    "- <h5> diff_amount_week\n",
    "- <h5> diff_amount_month\n",
    "- <h5> trans_group_month_1.0\n",
    "- <h5> amount_3month\n",
    "- <h5> distinct_ref_no_week\n",
    "- <h5> amount_month\n",
    "- <h5> max_amount_3month"
   ]
  },
  {
   "cell_type": "markdown",
   "id": "2b9b10f4",
   "metadata": {},
   "source": [
    "<h1> Predictive Model"
   ]
  },
  {
   "cell_type": "markdown",
   "id": "57bdf442",
   "metadata": {},
   "source": [
    "<h2> Train Test Split"
   ]
  },
  {
   "cell_type": "code",
   "execution_count": 73,
   "id": "ab34afb8",
   "metadata": {},
   "outputs": [
    {
     "name": "stdout",
     "output_type": "stream",
     "text": [
      "Setup Complete.\n"
     ]
    }
   ],
   "source": [
    "import pandas as pd\n",
    "import numpy as np\n",
    "import matplotlib.pyplot as plt\n",
    "import seaborn as sns\n",
    "%matplotlib inline\n",
    "from sklearn.model_selection import train_test_split\n",
    "print('Setup Complete.')"
   ]
  },
  {
   "cell_type": "markdown",
   "id": "539d7706",
   "metadata": {},
   "source": [
    "We splitted the dataset into training data and testing data, in which testing data accounts for 20% the dataset. To avoid some risks after splitting the dataset, especially with imbalanced ones, we splitted it based on the ratio of two values '0' and '1' of the target attribution 'Is_churn'."
   ]
  },
  {
   "cell_type": "code",
   "execution_count": 74,
   "id": "a8b2f126",
   "metadata": {},
   "outputs": [],
   "source": [
    "data_train, data_test = train_test_split(data, test_size = 0.2, stratify = data['Is_churn'], random_state = 999)"
   ]
  },
  {
   "cell_type": "code",
   "execution_count": 75,
   "id": "8616a9bd",
   "metadata": {},
   "outputs": [
    {
     "data": {
      "text/plain": [
       "0    41835\n",
       "1     1997\n",
       "Name: Is_churn, dtype: int64"
      ]
     },
     "execution_count": 75,
     "metadata": {},
     "output_type": "execute_result"
    }
   ],
   "source": [
    "data_train['Is_churn'].value_counts()"
   ]
  },
  {
   "cell_type": "code",
   "execution_count": 76,
   "id": "b32aeec5",
   "metadata": {},
   "outputs": [
    {
     "data": {
      "text/plain": [
       "0    10459\n",
       "1      499\n",
       "Name: Is_churn, dtype: int64"
      ]
     },
     "execution_count": 76,
     "metadata": {},
     "output_type": "execute_result"
    }
   ],
   "source": [
    "data_test['Is_churn'].value_counts()"
   ]
  },
  {
   "cell_type": "markdown",
   "id": "41369540",
   "metadata": {},
   "source": [
    "<h2> Handle Imbalanced data"
   ]
  },
  {
   "cell_type": "code",
   "execution_count": 77,
   "id": "5c1402ca",
   "metadata": {},
   "outputs": [
    {
     "name": "stdout",
     "output_type": "stream",
     "text": [
      "Setup Complete.\n"
     ]
    }
   ],
   "source": [
    "from imblearn.over_sampling import RandomOverSampler\n",
    "print('Setup Complete.')"
   ]
  },
  {
   "cell_type": "code",
   "execution_count": 78,
   "id": "aea8d469",
   "metadata": {},
   "outputs": [
    {
     "data": {
      "text/plain": [
       "<AxesSubplot:xlabel='Is_churn', ylabel='count'>"
      ]
     },
     "execution_count": 78,
     "metadata": {},
     "output_type": "execute_result"
    },
    {
     "data": {
      "image/png": "[encoded data removed]",
      "text/plain": [
       "<Figure size 432x288 with 1 Axes>"
      ]
     },
     "metadata": {
      "needs_background": "light"
     },
     "output_type": "display_data"
    }
   ],
   "source": [
    "# We visualized the target attribution of training data \n",
    "sns.countplot(x = 'Is_churn', data = data_train)"
   ]
  },
  {
   "cell_type": "markdown",
   "id": "44dcc763",
   "metadata": {},
   "source": [
    "We found that this dataset is severely imbalanced. We decided to deal with this problem before building the model. We chose OverSampling Data to make the dataset being balanced. There are many ways to OverSampling Data, we tried running model based on 3 main ways, including: Random Oversampling (ROS), OverSampling with shrinkage and Oversampling by SMOTE. Then, we realized ROS is most effective with this dataset. Thus, we chose Random Oversampling method."
   ]
  },
  {
   "cell_type": "code",
   "execution_count": 79,
   "id": "972009fe",
   "metadata": {},
   "outputs": [],
   "source": [
    "# Create a RandomOverSampler object\n",
    "ros = RandomOverSampler(random_state = 999)\n",
    "\n",
    "# Create variables x, y \n",
    "x = data_train.drop('Is_churn', axis = 1)\n",
    "y = data_train['Is_churn']\n",
    "\n",
    "# Fit x, y to model and put it in new variables x_resampled, y_resampled\n",
    "x_resampled, y_resampled = ros.fit_resample(x, y)"
   ]
  },
  {
   "cell_type": "code",
   "execution_count": 80,
   "id": "1b9d406c",
   "metadata": {},
   "outputs": [
    {
     "data": {
      "text/plain": [
       "<AxesSubplot:xlabel='Is_churn', ylabel='count'>"
      ]
     },
     "execution_count": 80,
     "metadata": {},
     "output_type": "execute_result"
    },
    {
     "data": {
      "image/png": "[encoded data removed]",
      "text/plain": [
       "<Figure size 432x288 with 1 Axes>"
      ]
     },
     "metadata": {
      "needs_background": "light"
     },
     "output_type": "display_data"
    }
   ],
   "source": [
    "# Concat x_resampled, y_resampled to make a balanced training data\n",
    "data_train = pd.concat([x_resampled, y_resampled], axis = 1)\n",
    "\n",
    "# Recheck the distribution of target attribution in the training data\n",
    "sns.countplot(x = 'Is_churn', data = data_train)"
   ]
  },
  {
   "cell_type": "markdown",
   "id": "3c52d085",
   "metadata": {},
   "source": [
    "<h2> Build and Evaluate Model"
   ]
  },
  {
   "cell_type": "code",
   "execution_count": 81,
   "id": "8f869a01",
   "metadata": {},
   "outputs": [
    {
     "name": "stdout",
     "output_type": "stream",
     "text": [
      "Setup Complete.\n"
     ]
    }
   ],
   "source": [
    "from sklearn.neighbors import KNeighborsClassifier\n",
    "from sklearn.linear_model import LogisticRegression\n",
    "from sklearn.naive_bayes import GaussianNB\n",
    "from sklearn.svm import SVC \n",
    "from sklearn.model_selection import GridSearchCV\n",
    "from sklearn.preprocessing import PolynomialFeatures\n",
    "from sklearn.metrics import confusion_matrix, classification_report, accuracy_score, f1_score\n",
    "from sklearn.metrics import roc_auc_score\n",
    "from sklearn.metrics import plot_confusion_matrix\n",
    "import warnings\n",
    "warnings.simplefilter(action='ignore', category=FutureWarning)\n",
    "print('Setup Complete.')"
   ]
  },
  {
   "cell_type": "markdown",
   "id": "7fc23a96",
   "metadata": {},
   "source": [
    "We used 4 main algorithms to solve Classification problem, including:\n",
    "- K-Nearest Neighbors\n",
    "- Logistic Regression\n",
    "- Naive Bayes\n",
    "- Support Vector Machines"
   ]
  },
  {
   "cell_type": "markdown",
   "id": "62e51d6b",
   "metadata": {},
   "source": [
    "We built model based on the above 4 algorithms and evaluated model by 3 metrics: F1-score, Accuracy, AUC. Those parameters of model in this report is the result after being tried many times and run GridSearch to find the best_parameters."
   ]
  },
  {
   "cell_type": "code",
   "execution_count": 82,
   "id": "03d89dba",
   "metadata": {},
   "outputs": [],
   "source": [
    "# Create a list containing all predictors being chose in EDA\n",
    "predictors = ['distinct_ref_no_3month', 'distinct_ref_no_month', 'trans_group_3month_1', 'diff_amount_3month',\n",
    "              'diff_amount_week', 'diff_amount_month', 'trans_group_month_1.0', 'amount_3month', \n",
    "              'distinct_ref_no_week','amount_month', 'max_amount_3month']\n",
    "\n",
    "# Create a list containing evaluating scores of 4 models\n",
    "model_evaluation = []"
   ]
  },
  {
   "cell_type": "code",
   "execution_count": 83,
   "id": "91653638",
   "metadata": {},
   "outputs": [],
   "source": [
    "def run_model(model, i, z):\n",
    "    x_train = data_train[predictors]\n",
    "    y_train = data_train['Is_churn']\n",
    "    x_test = data_test[predictors]\n",
    "    y_test = data_test['Is_churn']\n",
    "\n",
    "    poly = PolynomialFeatures(degree = i)\n",
    "    x_train_poly = poly.fit_transform(x_train)\n",
    "    x_test_poly = poly.fit_transform(x_test)\n",
    "    \n",
    "    model.fit(x_train_poly, y_train)\n",
    "    y_pred = model.predict(x_test_poly)\n",
    "\n",
    "    if z == 'score':\n",
    "        return model_evaluation.append([round(f1_score(y_test, y_pred),2), round(accuracy_score(y_test, y_pred),2), \n",
    "                                      round(roc_auc_score(y_test, y_pred),2)])\n",
    "    else:\n",
    "        return plot_confusion_matrix(model, x_test_poly, y_test)"
   ]
  },
  {
   "cell_type": "code",
   "execution_count": 84,
   "id": "94ca9324",
   "metadata": {},
   "outputs": [],
   "source": [
    "# Create a KNeighborsClassifier object\n",
    "knn = KNeighborsClassifier(n_neighbors = 2, metric = 'minkowski', p=2, algorithm = 'brute')\n",
    "\n",
    "# Create a LogisticRegression object\n",
    "lr = LogisticRegression(max_iter = 5000, C = 1000)\n",
    "\n",
    "# Create a GaussianNB object\n",
    "nb = GaussianNB()\n",
    "\n",
    "# Create a SVC object\n",
    "svm = SVC(kernel='rbf')"
   ]
  },
  {
   "cell_type": "code",
   "execution_count": 85,
   "id": "f15c9eb3",
   "metadata": {},
   "outputs": [
    {
     "name": "stderr",
     "output_type": "stream",
     "text": [
      "C:\\Users\\Admin\\anaconda3\\lib\\site-packages\\sklearn\\linear_model\\_logistic.py:814: ConvergenceWarning: lbfgs failed to converge (status=1):\n",
      "STOP: TOTAL NO. of ITERATIONS REACHED LIMIT.\n",
      "\n",
      "Increase the number of iterations (max_iter) or scale the data as shown in:\n",
      "    https://scikit-learn.org/stable/modules/preprocessing.html\n",
      "Please also refer to the documentation for alternative solver options:\n",
      "    https://scikit-learn.org/stable/modules/linear_model.html#logistic-regression\n",
      "  n_iter_i = _check_optimize_result(\n"
     ]
    },
    {
     "data": {
      "text/plain": [
       "Text(0.5, 1.0, 'Confusion Matrix in SVC model')"
      ]
     },
     "execution_count": 85,
     "metadata": {},
     "output_type": "execute_result"
    },
    {
     "data": {
      "image/png": "[encoded data removed]",
      "text/plain": [
       "<Figure size 432x288 with 2 Axes>"
      ]
     },
     "metadata": {
      "needs_background": "light"
     },
     "output_type": "display_data"
    },
    {
     "data": {
      "image/png": "[encoded data removed]",
      "text/plain": [
       "<Figure size 432x288 with 2 Axes>"
      ]
     },
     "metadata": {
      "needs_background": "light"
     },
     "output_type": "display_data"
    },
    {
     "data": {
      "image/png": "[encoded data removed]",
      "text/plain": [
       "<Figure size 432x288 with 2 Axes>"
      ]
     },
     "metadata": {
      "needs_background": "light"
     },
     "output_type": "display_data"
    },
    {
     "data": {
      "image/png": "[encoded data removed]",
      "text/plain": [
       "<Figure size 432x288 with 2 Axes>"
      ]
     },
     "metadata": {
      "needs_background": "light"
     },
     "output_type": "display_data"
    }
   ],
   "source": [
    "# Confusion matrix in kNN model\n",
    "run_model(knn, 3, 'confusion_matrix')\n",
    "plt.title(\"Confusion Matrix in kNN model\")\n",
    "\n",
    "# Confusion matrix in LR model\n",
    "run_model(lr, 4, 'confusion_matrix')\n",
    "plt.title(\"Confusion Matrix in LR model\")\n",
    "\n",
    "# Confusion matrix in NB model\n",
    "run_model(nb, 1, 'confusion_matrix')\n",
    "plt.title(\"Confusion Matrix in NB model\")\n",
    "\n",
    "# Confusion matrix in SVC model\n",
    "run_model(svm, 1, 'confusion_matrix')\n",
    "plt.title(\"Confusion Matrix in SVC model\")"
   ]
  },
  {
   "cell_type": "code",
   "execution_count": 86,
   "id": "3b230a11",
   "metadata": {},
   "outputs": [
    {
     "name": "stderr",
     "output_type": "stream",
     "text": [
      "C:\\Users\\Admin\\anaconda3\\lib\\site-packages\\sklearn\\linear_model\\_logistic.py:814: ConvergenceWarning: lbfgs failed to converge (status=1):\n",
      "STOP: TOTAL NO. of ITERATIONS REACHED LIMIT.\n",
      "\n",
      "Increase the number of iterations (max_iter) or scale the data as shown in:\n",
      "    https://scikit-learn.org/stable/modules/preprocessing.html\n",
      "Please also refer to the documentation for alternative solver options:\n",
      "    https://scikit-learn.org/stable/modules/linear_model.html#logistic-regression\n",
      "  n_iter_i = _check_optimize_result(\n"
     ]
    },
    {
     "data": {
      "text/html": [
       "<div>\n",
       "<style scoped>\n",
       "    .dataframe tbody tr th:only-of-type {\n",
       "        vertical-align: middle;\n",
       "    }\n",
       "\n",
       "    .dataframe tbody tr th {\n",
       "        vertical-align: top;\n",
       "    }\n",
       "\n",
       "    .dataframe thead th {\n",
       "        text-align: right;\n",
       "    }\n",
       "</style>\n",
       "<table border=\"1\" class=\"dataframe\">\n",
       "  <thead>\n",
       "    <tr style=\"text-align: right;\">\n",
       "      <th></th>\n",
       "      <th>Model</th>\n",
       "      <th>F1-score</th>\n",
       "      <th>Accuracy</th>\n",
       "      <th>AUC</th>\n",
       "    </tr>\n",
       "  </thead>\n",
       "  <tbody>\n",
       "    <tr>\n",
       "      <th>0</th>\n",
       "      <td>K-Nearest Neighbors</td>\n",
       "      <td>0.37</td>\n",
       "      <td>0.95</td>\n",
       "      <td>0.67</td>\n",
       "    </tr>\n",
       "    <tr>\n",
       "      <th>1</th>\n",
       "      <td>Logistic Regression</td>\n",
       "      <td>0.20</td>\n",
       "      <td>0.74</td>\n",
       "      <td>0.71</td>\n",
       "    </tr>\n",
       "    <tr>\n",
       "      <th>2</th>\n",
       "      <td>Naive Bayes</td>\n",
       "      <td>0.11</td>\n",
       "      <td>0.43</td>\n",
       "      <td>0.60</td>\n",
       "    </tr>\n",
       "    <tr>\n",
       "      <th>3</th>\n",
       "      <td>Support Vector Machines</td>\n",
       "      <td>0.19</td>\n",
       "      <td>0.74</td>\n",
       "      <td>0.70</td>\n",
       "    </tr>\n",
       "  </tbody>\n",
       "</table>\n",
       "</div>"
      ],
      "text/plain": [
       "                     Model  F1-score  Accuracy   AUC\n",
       "0      K-Nearest Neighbors      0.37      0.95  0.67\n",
       "1      Logistic Regression      0.20      0.74  0.71\n",
       "2              Naive Bayes      0.11      0.43  0.60\n",
       "3  Support Vector Machines      0.19      0.74  0.70"
      ]
     },
     "execution_count": 86,
     "metadata": {},
     "output_type": "execute_result"
    }
   ],
   "source": [
    "# Evaluate models\n",
    "run_model(knn, 3, 'score')\n",
    "run_model(lr, 4, 'score')\n",
    "run_model(nb, 1, 'score')\n",
    "run_model(svm, 1, 'score')\n",
    "\n",
    "# Create a dataframe 'model_evaluation' to compare 4 models\n",
    "model_evaluation = pd.DataFrame(model_evaluation, columns = ['F1-score', 'Accuracy', 'AUC'])\n",
    "model_evaluation['Model'] = ['K-Nearest Neighbors', 'Logistic Regression', 'Naive Bayes', 'Support Vector Machines']\n",
    "model_evaluation = model_evaluation[['Model', 'F1-score', 'Accuracy', 'AUC']]\n",
    "model_evaluation"
   ]
  },
  {
   "cell_type": "markdown",
   "id": "b0a88cbb",
   "metadata": {},
   "source": [
    "The above table contains 3 metrics of each model after evaluating on the testing data. Based on this table, we found that kNN model is the most effective model. Thus, we chose K-Nearest Neighbors to build predictive model of Churn Customer."
   ]
  },
  {
   "cell_type": "markdown",
   "id": "783d9cee",
   "metadata": {},
   "source": [
    "<h1> Conclusion"
   ]
  },
  {
   "cell_type": "markdown",
   "id": "12a93f48",
   "metadata": {},
   "source": [
    "In this project, we have transformed the raw data into usefull data; besides, we have analyzed and built Churn Customer predictive model in the bank. After evaluating models, we chose K-Nearest Neghbors as the most efficient and optimal model for this dataset. Moreover, we found out some insights and behaviors of Churn Customers as follows:\n",
    "- The lower a customer's total transaction amount in the 1-month, 3-month period before the customer leaves the bank, the more likely the customer is to become a Churn Customer.\n",
    "- The lower the value of the customer's largest transaction in the 3 observation periods (1 week, 1 month, 3 months ago), the more likely the customer is to become a Churn Customer.\n",
    "- The smaller the difference between the customer's largest transaction and the customer's smallest transaction in the three observation time periods, the more likely the customer is to become a Churn Customer.\n",
    "- The less service the customer used in the three observation periods, the more likely the customer is to become a Churn Customer.\n",
    "- The smaller the number of recipients of a customer's transactions, the more likely the customer is to become a Churn Customer.\n",
    "- Churn Customers tend to being male, single and between the ages of 18 and 34.\n",
    "- Churn Customers tend to use two payment codes 0 and 1, especially payment code 0 in the period of 1 week, 1 month, 3 months before leaving the bank.\n",
    "- Churn Customers tend to use transaction group 1 in the previous week; or use transaction groups 1 or 2 in the previous 1 month; or use transaction groups 1, 2, 3 within 3 months before leaving the bank.\n"
   ]
  },
  {
   "cell_type": "code",
   "execution_count": null,
   "id": "158cce8f",
   "metadata": {},
   "outputs": [],
   "source": []
  }
 ],
 "metadata": {
  "kernelspec": {
   "display_name": "Python 3 (ipykernel)",
   "language": "python",
   "name": "python3"
  },
  "language_info": {
   "codemirror_mode": {
    "name": "ipython",
    "version": 3
   },
   "file_extension": ".py",
   "mimetype": "text/x-python",
   "name": "python",
   "nbconvert_exporter": "python",
   "pygments_lexer": "ipython3",
   "version": "3.9.7"
  }
 },
 "nbformat": 4,
 "nbformat_minor": 5
}
